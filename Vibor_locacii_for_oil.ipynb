{
 "cells": [
  {
   "cell_type": "markdown",
   "metadata": {},
   "source": [
    "# Выбор локации для скважины"
   ]
  },
  {
   "cell_type": "markdown",
   "metadata": {},
   "source": [
    "Допустим, вы работаете в добывающей компании «ГлавРосГосНефть». Нужно решить, где бурить новую скважину.\n",
    "\n",
    "Вам предоставлены пробы нефти в трёх регионах: в каждом 10 000 месторождений, где измерили качество нефти и объём её запасов. Постройте модель машинного обучения, которая поможет определить регион, где добыча принесёт наибольшую прибыль. Проанализируйте возможную прибыль и риски техникой *Bootstrap.*\n",
    "\n",
    "Шаги для выбора локации:\n",
    "\n",
    "- В избранном регионе ищут месторождения, для каждого определяют значения признаков;\n",
    "- Строят модель и оценивают объём запасов;\n",
    "- Выбирают месторождения с самым высокими оценками значений. Количество месторождений зависит от бюджета компании и стоимости разработки одной скважины;\n",
    "- Прибыль равна суммарной прибыли отобранных месторождений.\n",
    "\n",
    "Условия задачи:\n",
    "\n",
    "-Для обучения модели подходит только линейная регрессия (остальные — недостаточно предсказуемые).\n",
    "\n",
    "-При разведке региона исследуют 500 точек, из которых с помощью машинного обучения выбирают 200 лучших для разработки.\n",
    "\n",
    "-Бюджет на разработку скважин в регионе — 10 млрд рублей.\n",
    "\n",
    "-При нынешних ценах один баррель сырья приносит 450 рублей дохода. Доход с каждой единицы продукта составляет 450 тыс. рублей, поскольку объём указан в тысячах баррелей.\n",
    "\n",
    "-После оценки рисков нужно оставить лишь те регионы, в которых вероятность убытков меньше 2.5%. Среди них выбирают регион с наибольшей средней прибылью.\n",
    "\n",
    "-Данные синтетические: детали контрактов и характеристики месторождений не разглашаются."
   ]
  },
  {
   "cell_type": "markdown",
   "metadata": {},
   "source": [
    "## Загрузка и подготовка данных"
   ]
  },
  {
   "cell_type": "code",
   "execution_count": 1,
   "metadata": {},
   "outputs": [],
   "source": [
    "#Загрузим библиотеки\n",
    "import pandas as pd\n",
    "import seaborn as sns\n",
    "from sklearn.model_selection import train_test_split\n",
    "from sklearn.linear_model import LinearRegression\n",
    "from sklearn.metrics import mean_squared_error\n",
    "import numpy as np"
   ]
  },
  {
   "cell_type": "code",
   "execution_count": 2,
   "metadata": {},
   "outputs": [],
   "source": [
    "#Загрузим данные\n",
    "df_0 = pd.read_csv('/datasets/geo_data_0.csv')\n",
    "df_1 = pd.read_csv('/datasets/geo_data_1.csv')\n",
    "df_2 = pd.read_csv('/datasets/geo_data_2.csv')"
   ]
  },
  {
   "cell_type": "code",
   "execution_count": 3,
   "metadata": {
    "scrolled": true
   },
   "outputs": [
    {
     "name": "stdout",
     "output_type": "stream",
     "text": [
      "--------\n"
     ]
    },
    {
     "data": {
      "text/html": [
       "<div>\n",
       "<style scoped>\n",
       "    .dataframe tbody tr th:only-of-type {\n",
       "        vertical-align: middle;\n",
       "    }\n",
       "\n",
       "    .dataframe tbody tr th {\n",
       "        vertical-align: top;\n",
       "    }\n",
       "\n",
       "    .dataframe thead th {\n",
       "        text-align: right;\n",
       "    }\n",
       "</style>\n",
       "<table border=\"1\" class=\"dataframe\">\n",
       "  <thead>\n",
       "    <tr style=\"text-align: right;\">\n",
       "      <th></th>\n",
       "      <th>id</th>\n",
       "      <th>f0</th>\n",
       "      <th>f1</th>\n",
       "      <th>f2</th>\n",
       "      <th>product</th>\n",
       "    </tr>\n",
       "  </thead>\n",
       "  <tbody>\n",
       "    <tr>\n",
       "      <th>0</th>\n",
       "      <td>txEyH</td>\n",
       "      <td>0.705745</td>\n",
       "      <td>-0.497823</td>\n",
       "      <td>1.221170</td>\n",
       "      <td>105.280062</td>\n",
       "    </tr>\n",
       "    <tr>\n",
       "      <th>1</th>\n",
       "      <td>2acmU</td>\n",
       "      <td>1.334711</td>\n",
       "      <td>-0.340164</td>\n",
       "      <td>4.365080</td>\n",
       "      <td>73.037750</td>\n",
       "    </tr>\n",
       "    <tr>\n",
       "      <th>2</th>\n",
       "      <td>409Wp</td>\n",
       "      <td>1.022732</td>\n",
       "      <td>0.151990</td>\n",
       "      <td>1.419926</td>\n",
       "      <td>85.265647</td>\n",
       "    </tr>\n",
       "    <tr>\n",
       "      <th>3</th>\n",
       "      <td>iJLyR</td>\n",
       "      <td>-0.032172</td>\n",
       "      <td>0.139033</td>\n",
       "      <td>2.978566</td>\n",
       "      <td>168.620776</td>\n",
       "    </tr>\n",
       "    <tr>\n",
       "      <th>4</th>\n",
       "      <td>Xdl7t</td>\n",
       "      <td>1.988431</td>\n",
       "      <td>0.155413</td>\n",
       "      <td>4.751769</td>\n",
       "      <td>154.036647</td>\n",
       "    </tr>\n",
       "  </tbody>\n",
       "</table>\n",
       "</div>"
      ],
      "text/plain": [
       "      id        f0        f1        f2     product\n",
       "0  txEyH  0.705745 -0.497823  1.221170  105.280062\n",
       "1  2acmU  1.334711 -0.340164  4.365080   73.037750\n",
       "2  409Wp  1.022732  0.151990  1.419926   85.265647\n",
       "3  iJLyR -0.032172  0.139033  2.978566  168.620776\n",
       "4  Xdl7t  1.988431  0.155413  4.751769  154.036647"
      ]
     },
     "metadata": {},
     "output_type": "display_data"
    },
    {
     "name": "stdout",
     "output_type": "stream",
     "text": [
      "<class 'pandas.core.frame.DataFrame'>\n",
      "RangeIndex: 100000 entries, 0 to 99999\n",
      "Data columns (total 5 columns):\n",
      " #   Column   Non-Null Count   Dtype  \n",
      "---  ------   --------------   -----  \n",
      " 0   id       100000 non-null  object \n",
      " 1   f0       100000 non-null  float64\n",
      " 2   f1       100000 non-null  float64\n",
      " 3   f2       100000 non-null  float64\n",
      " 4   product  100000 non-null  float64\n",
      "dtypes: float64(4), object(1)\n",
      "memory usage: 3.8+ MB\n",
      "Количество полных дупликатов 0\n",
      "--------\n"
     ]
    },
    {
     "data": {
      "text/html": [
       "<div>\n",
       "<style scoped>\n",
       "    .dataframe tbody tr th:only-of-type {\n",
       "        vertical-align: middle;\n",
       "    }\n",
       "\n",
       "    .dataframe tbody tr th {\n",
       "        vertical-align: top;\n",
       "    }\n",
       "\n",
       "    .dataframe thead th {\n",
       "        text-align: right;\n",
       "    }\n",
       "</style>\n",
       "<table border=\"1\" class=\"dataframe\">\n",
       "  <thead>\n",
       "    <tr style=\"text-align: right;\">\n",
       "      <th></th>\n",
       "      <th>id</th>\n",
       "      <th>f0</th>\n",
       "      <th>f1</th>\n",
       "      <th>f2</th>\n",
       "      <th>product</th>\n",
       "    </tr>\n",
       "  </thead>\n",
       "  <tbody>\n",
       "    <tr>\n",
       "      <th>0</th>\n",
       "      <td>kBEdx</td>\n",
       "      <td>-15.001348</td>\n",
       "      <td>-8.276000</td>\n",
       "      <td>-0.005876</td>\n",
       "      <td>3.179103</td>\n",
       "    </tr>\n",
       "    <tr>\n",
       "      <th>1</th>\n",
       "      <td>62mP7</td>\n",
       "      <td>14.272088</td>\n",
       "      <td>-3.475083</td>\n",
       "      <td>0.999183</td>\n",
       "      <td>26.953261</td>\n",
       "    </tr>\n",
       "    <tr>\n",
       "      <th>2</th>\n",
       "      <td>vyE1P</td>\n",
       "      <td>6.263187</td>\n",
       "      <td>-5.948386</td>\n",
       "      <td>5.001160</td>\n",
       "      <td>134.766305</td>\n",
       "    </tr>\n",
       "    <tr>\n",
       "      <th>3</th>\n",
       "      <td>KcrkZ</td>\n",
       "      <td>-13.081196</td>\n",
       "      <td>-11.506057</td>\n",
       "      <td>4.999415</td>\n",
       "      <td>137.945408</td>\n",
       "    </tr>\n",
       "    <tr>\n",
       "      <th>4</th>\n",
       "      <td>AHL4O</td>\n",
       "      <td>12.702195</td>\n",
       "      <td>-8.147433</td>\n",
       "      <td>5.004363</td>\n",
       "      <td>134.766305</td>\n",
       "    </tr>\n",
       "  </tbody>\n",
       "</table>\n",
       "</div>"
      ],
      "text/plain": [
       "      id         f0         f1        f2     product\n",
       "0  kBEdx -15.001348  -8.276000 -0.005876    3.179103\n",
       "1  62mP7  14.272088  -3.475083  0.999183   26.953261\n",
       "2  vyE1P   6.263187  -5.948386  5.001160  134.766305\n",
       "3  KcrkZ -13.081196 -11.506057  4.999415  137.945408\n",
       "4  AHL4O  12.702195  -8.147433  5.004363  134.766305"
      ]
     },
     "metadata": {},
     "output_type": "display_data"
    },
    {
     "name": "stdout",
     "output_type": "stream",
     "text": [
      "<class 'pandas.core.frame.DataFrame'>\n",
      "RangeIndex: 100000 entries, 0 to 99999\n",
      "Data columns (total 5 columns):\n",
      " #   Column   Non-Null Count   Dtype  \n",
      "---  ------   --------------   -----  \n",
      " 0   id       100000 non-null  object \n",
      " 1   f0       100000 non-null  float64\n",
      " 2   f1       100000 non-null  float64\n",
      " 3   f2       100000 non-null  float64\n",
      " 4   product  100000 non-null  float64\n",
      "dtypes: float64(4), object(1)\n",
      "memory usage: 3.8+ MB\n",
      "Количество полных дупликатов 0\n",
      "--------\n"
     ]
    },
    {
     "data": {
      "text/html": [
       "<div>\n",
       "<style scoped>\n",
       "    .dataframe tbody tr th:only-of-type {\n",
       "        vertical-align: middle;\n",
       "    }\n",
       "\n",
       "    .dataframe tbody tr th {\n",
       "        vertical-align: top;\n",
       "    }\n",
       "\n",
       "    .dataframe thead th {\n",
       "        text-align: right;\n",
       "    }\n",
       "</style>\n",
       "<table border=\"1\" class=\"dataframe\">\n",
       "  <thead>\n",
       "    <tr style=\"text-align: right;\">\n",
       "      <th></th>\n",
       "      <th>id</th>\n",
       "      <th>f0</th>\n",
       "      <th>f1</th>\n",
       "      <th>f2</th>\n",
       "      <th>product</th>\n",
       "    </tr>\n",
       "  </thead>\n",
       "  <tbody>\n",
       "    <tr>\n",
       "      <th>0</th>\n",
       "      <td>fwXo0</td>\n",
       "      <td>-1.146987</td>\n",
       "      <td>0.963328</td>\n",
       "      <td>-0.828965</td>\n",
       "      <td>27.758673</td>\n",
       "    </tr>\n",
       "    <tr>\n",
       "      <th>1</th>\n",
       "      <td>WJtFt</td>\n",
       "      <td>0.262778</td>\n",
       "      <td>0.269839</td>\n",
       "      <td>-2.530187</td>\n",
       "      <td>56.069697</td>\n",
       "    </tr>\n",
       "    <tr>\n",
       "      <th>2</th>\n",
       "      <td>ovLUW</td>\n",
       "      <td>0.194587</td>\n",
       "      <td>0.289035</td>\n",
       "      <td>-5.586433</td>\n",
       "      <td>62.871910</td>\n",
       "    </tr>\n",
       "    <tr>\n",
       "      <th>3</th>\n",
       "      <td>q6cA6</td>\n",
       "      <td>2.236060</td>\n",
       "      <td>-0.553760</td>\n",
       "      <td>0.930038</td>\n",
       "      <td>114.572842</td>\n",
       "    </tr>\n",
       "    <tr>\n",
       "      <th>4</th>\n",
       "      <td>WPMUX</td>\n",
       "      <td>-0.515993</td>\n",
       "      <td>1.716266</td>\n",
       "      <td>5.899011</td>\n",
       "      <td>149.600746</td>\n",
       "    </tr>\n",
       "  </tbody>\n",
       "</table>\n",
       "</div>"
      ],
      "text/plain": [
       "      id        f0        f1        f2     product\n",
       "0  fwXo0 -1.146987  0.963328 -0.828965   27.758673\n",
       "1  WJtFt  0.262778  0.269839 -2.530187   56.069697\n",
       "2  ovLUW  0.194587  0.289035 -5.586433   62.871910\n",
       "3  q6cA6  2.236060 -0.553760  0.930038  114.572842\n",
       "4  WPMUX -0.515993  1.716266  5.899011  149.600746"
      ]
     },
     "metadata": {},
     "output_type": "display_data"
    },
    {
     "name": "stdout",
     "output_type": "stream",
     "text": [
      "<class 'pandas.core.frame.DataFrame'>\n",
      "RangeIndex: 100000 entries, 0 to 99999\n",
      "Data columns (total 5 columns):\n",
      " #   Column   Non-Null Count   Dtype  \n",
      "---  ------   --------------   -----  \n",
      " 0   id       100000 non-null  object \n",
      " 1   f0       100000 non-null  float64\n",
      " 2   f1       100000 non-null  float64\n",
      " 3   f2       100000 non-null  float64\n",
      " 4   product  100000 non-null  float64\n",
      "dtypes: float64(4), object(1)\n",
      "memory usage: 3.8+ MB\n",
      "Количество полных дупликатов 0\n"
     ]
    }
   ],
   "source": [
    "# Для всех регионов посмотрим элементы,описательную статистику и полные дубликаты\n",
    "s = [df_0,df_1,df_2]\n",
    "for i in s:\n",
    "    print('--------')    \n",
    "    display(i.head())\n",
    "    i.info()\n",
    "    print('Количество полных дупликатов',i.duplicated().sum())   "
   ]
  },
  {
   "cell_type": "markdown",
   "metadata": {},
   "source": [
    "*** Как мы видим во всех выборках одинаковое количество данных,одного типа,без пропусков и явных дупликатов.***\n",
    "\n",
    "*** Посмотрим на регионы в разрезе описательной статистики и матрицы корреляции ***"
   ]
  },
  {
   "cell_type": "markdown",
   "metadata": {},
   "source": [
    "*** Регион \"0\"***"
   ]
  },
  {
   "cell_type": "code",
   "execution_count": 4,
   "metadata": {},
   "outputs": [
    {
     "name": "stdout",
     "output_type": "stream",
     "text": [
      "                  f0             f1             f2        product\n",
      "count  100000.000000  100000.000000  100000.000000  100000.000000\n",
      "mean        0.500419       0.250143       2.502647      92.500000\n",
      "std         0.871832       0.504433       3.248248      44.288691\n",
      "min        -1.408605      -0.848218     -12.088328       0.000000\n",
      "25%        -0.072580      -0.200881       0.287748      56.497507\n",
      "50%         0.502360       0.250252       2.515969      91.849972\n",
      "75%         1.073581       0.700646       4.715088     128.564089\n",
      "max         2.362331       1.343769      16.003790     185.364347\n",
      "---------\n",
      "Матрица корреляции\n",
      "               f0        f1        f2   product\n",
      "f0       1.000000 -0.440723 -0.003153  0.143536\n",
      "f1      -0.440723  1.000000  0.001724 -0.192356\n",
      "f2      -0.003153  0.001724  1.000000  0.483663\n",
      "product  0.143536 -0.192356  0.483663  1.000000\n"
     ]
    },
    {
     "data": {
      "text/plain": [
       "<AxesSubplot:>"
      ]
     },
     "execution_count": 4,
     "metadata": {},
     "output_type": "execute_result"
    },
    {
     "data": {
      "image/png": "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\n",
      "text/plain": [
       "<Figure size 432x288 with 2 Axes>"
      ]
     },
     "metadata": {
      "needs_background": "light"
     },
     "output_type": "display_data"
    }
   ],
   "source": [
    "# Посмотрим на распределение признаков с помощью описательной статистики и матрице корреляции для каждого региона\n",
    "print(df_0.describe())\n",
    "print('---------')\n",
    "corr = df_0.corr()\n",
    "print('Матрица корреляции')\n",
    "print(corr)\n",
    "sns.heatmap(corr,\n",
    "            xticklabels=corr.columns.values,\n",
    "            yticklabels=corr.columns.values)"
   ]
  },
  {
   "cell_type": "markdown",
   "metadata": {},
   "source": [
    "*** Регион 1 ***"
   ]
  },
  {
   "cell_type": "code",
   "execution_count": 5,
   "metadata": {},
   "outputs": [
    {
     "name": "stdout",
     "output_type": "stream",
     "text": [
      "                  f0             f1             f2        product\n",
      "count  100000.000000  100000.000000  100000.000000  100000.000000\n",
      "mean        1.141296      -4.796579       2.494541      68.825000\n",
      "std         8.965932       5.119872       1.703572      45.944423\n",
      "min       -31.609576     -26.358598      -0.018144       0.000000\n",
      "25%        -6.298551      -8.267985       1.000021      26.953261\n",
      "50%         1.153055      -4.813172       2.011479      57.085625\n",
      "75%         8.621015      -1.332816       3.999904     107.813044\n",
      "max        29.421755      18.734063       5.019721     137.945408\n",
      "---------\n",
      "Матрица корреляции\n",
      "               f0        f1        f2   product\n",
      "f0       1.000000  0.182287 -0.001777 -0.030491\n",
      "f1       0.182287  1.000000 -0.002595 -0.010155\n",
      "f2      -0.001777 -0.002595  1.000000  0.999397\n",
      "product -0.030491 -0.010155  0.999397  1.000000\n"
     ]
    },
    {
     "data": {
      "text/plain": [
       "<AxesSubplot:>"
      ]
     },
     "execution_count": 5,
     "metadata": {},
     "output_type": "execute_result"
    },
    {
     "data": {
      "image/png": "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\n",
      "text/plain": [
       "<Figure size 432x288 with 2 Axes>"
      ]
     },
     "metadata": {
      "needs_background": "light"
     },
     "output_type": "display_data"
    }
   ],
   "source": [
    "print(df_1.describe())\n",
    "print('---------')\n",
    "corr = df_1.corr()\n",
    "print('Матрица корреляции')\n",
    "print(corr)\n",
    "sns.heatmap(corr,\n",
    "            xticklabels=corr.columns.values,\n",
    "            yticklabels=corr.columns.values)"
   ]
  },
  {
   "cell_type": "markdown",
   "metadata": {},
   "source": [
    "*** Регион 2 ***"
   ]
  },
  {
   "cell_type": "code",
   "execution_count": 6,
   "metadata": {},
   "outputs": [
    {
     "name": "stdout",
     "output_type": "stream",
     "text": [
      "                  f0             f1             f2        product\n",
      "count  100000.000000  100000.000000  100000.000000  100000.000000\n",
      "mean        0.002023      -0.002081       2.495128      95.000000\n",
      "std         1.732045       1.730417       3.473445      44.749921\n",
      "min        -8.760004      -7.084020     -11.970335       0.000000\n",
      "25%        -1.162288      -1.174820       0.130359      59.450441\n",
      "50%         0.009424      -0.009482       2.484236      94.925613\n",
      "75%         1.158535       1.163678       4.858794     130.595027\n",
      "max         7.238262       7.844801      16.739402     190.029838\n",
      "---------\n",
      "Матрица корреляции\n",
      "               f0        f1        f2   product\n",
      "f0       1.000000  0.000528 -0.000448 -0.001987\n",
      "f1       0.000528  1.000000  0.000779 -0.001012\n",
      "f2      -0.000448  0.000779  1.000000  0.445871\n",
      "product -0.001987 -0.001012  0.445871  1.000000\n"
     ]
    },
    {
     "data": {
      "text/plain": [
       "<AxesSubplot:>"
      ]
     },
     "execution_count": 6,
     "metadata": {},
     "output_type": "execute_result"
    },
    {
     "data": {
      "image/png": "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\n",
      "text/plain": [
       "<Figure size 432x288 with 2 Axes>"
      ]
     },
     "metadata": {
      "needs_background": "light"
     },
     "output_type": "display_data"
    }
   ],
   "source": [
    "# Посмотрим на распределение признаков с помощью описательной статистики и матрице корреляции для каждого региона\n",
    "print(df_2.describe())\n",
    "print('---------')\n",
    "corr = df_2.corr()\n",
    "print('Матрица корреляции')\n",
    "print(corr)\n",
    "sns.heatmap(corr,\n",
    "            xticklabels=corr.columns.values,\n",
    "            yticklabels=corr.columns.values)"
   ]
  },
  {
   "cell_type": "code",
   "execution_count": 7,
   "metadata": {},
   "outputs": [
    {
     "name": "stdout",
     "output_type": "stream",
     "text": [
      "Количество неявных дупликатов  10\n",
      "Количество неявных дупликатов  4\n",
      "Количество неявных дупликатов  4\n"
     ]
    }
   ],
   "source": [
    "#Явных дупликатов нет,проверим неявные по ID\n",
    "\n",
    "for i in s:\n",
    "    print('Количество неявных дупликатов ',i['id'].duplicated().sum())\n",
    "    "
   ]
  },
  {
   "cell_type": "markdown",
   "metadata": {},
   "source": [
    "*** Поскольку по нашей описательной статистики ни в одном из регионов нет выбросов( медиана и среднее в целом незначительно отличаются) и количество самих дубликатов мало, то их можно удалить.***"
   ]
  },
  {
   "cell_type": "code",
   "execution_count": 8,
   "metadata": {},
   "outputs": [],
   "source": [
    "# удаляем неявные дубликаты.\n",
    "for i in s:\n",
    "    i.drop_duplicates(subset=['id'],inplace=True)"
   ]
  },
  {
   "cell_type": "markdown",
   "metadata": {},
   "source": [
    "*** Последним шагом в подготовке данных для обучения будет удаление столбца идентефикатора,для обучения он не нужен ***"
   ]
  },
  {
   "cell_type": "code",
   "execution_count": 9,
   "metadata": {},
   "outputs": [],
   "source": [
    "\n",
    "for i in s:\n",
    "    i.drop(columns=['id'],axis=1, inplace=True)"
   ]
  },
  {
   "cell_type": "markdown",
   "metadata": {},
   "source": [
    "*** Выводы ***\n",
    "\n",
    "Данные загружены. Пропусков и полных дубликатов нет. Было выявлено несколько неявных дубликатов по идентификаторам скважин (незначительное количество),которые были удалены. После этого столбец с идентификаторомами был удален,т.к для обучения моделей он не нужен. \n",
    "\n",
    "Практически все данные симметричны ( среднее и 50% квартиль примерно одинаковы по всем признакам во всех регионах ,кроме целевого в регионе 1, там наблюдается небольшой перекос ) и слабо коррелированы между собой. Однако, в регионе 1 сильная зависимость целевого показателя 'product' от f2,которая равна практичеки 100%. С большой вероятностью модель линейной регрессии даст очень близкие к целевым прогнозы и невысокое значение RMSE, однако, причины такой высокой корреляции назвать затруднительно изза синтетичности данных.\n",
    "\n",
    "Поскольку все признаки во всех регионах имеют разный размах и не имеет размерности, то для каждого региона будем стороить свою модель и обучать на своих данных.\n",
    "\n",
    "\n"
   ]
  },
  {
   "cell_type": "markdown",
   "metadata": {},
   "source": [
    "## Обучение и проверка модели"
   ]
  },
  {
   "cell_type": "code",
   "execution_count": 10,
   "metadata": {},
   "outputs": [],
   "source": [
    "# Разобьем модель на выборки в соотношении 75:25\n",
    "def split_data(data):\n",
    "    features = data.drop(['product'],axis=1)  # признаки\n",
    "    target = data['product']                  #целевое\n",
    "\n",
    "    features_train, features_valid, target_train, target_valid = train_test_split(\n",
    "    features, target, test_size=0.25, random_state=12345)\n",
    "    \n",
    "    #сбросим индексы у новых таблиц\n",
    "    for df in features_train, features_valid, target_train, target_valid:\n",
    "        df.reset_index(drop=True,inplace =True)\n",
    "    return features_train, features_valid, target_train, target_valid\n",
    "\n",
    "features_train_0, features_valid_0, target_train_0, target_valid_0 = split_data(df_0)\n",
    "features_train_1, features_valid_1, target_train_1, target_valid_1 = split_data(df_1)\n",
    "features_train_2, features_valid_2, target_train_2, target_valid_2 = split_data(df_2)\n"
   ]
  },
  {
   "cell_type": "code",
   "execution_count": 11,
   "metadata": {},
   "outputs": [
    {
     "name": "stdout",
     "output_type": "stream",
     "text": [
      "В регионе 0 средний запас предсказанного сырья 92.79 RMSE модели 37.85\n",
      "В регионе 1 средний запас предсказанного сырья 69.18 RMSE модели 0.89\n",
      "В регионе 2 средний запас предсказанного сырья 94.87 RMSE модели 40.08\n"
     ]
    }
   ],
   "source": [
    "# Напишем функцию линейной регрессии для получения предиктов,их среднего и ошибку отклонения\n",
    "def Linear_regr(features_train,features_valid,target_train,target_valid):\n",
    "    model = LinearRegression()\n",
    "    model.fit(features_train,target_train)\n",
    "    predicted_valid =pd.Series(model.predict(features_valid))\n",
    "    rmse= mean_squared_error(target_valid,predicted_valid)**0.5\n",
    "    predict_mean = predicted_valid.mean()\n",
    "    return (predicted_valid,rmse,predict_mean)\n",
    "# Получим значения с помощью написанной функции в регионе 0 \n",
    "predicted_valid_0,rmse_0,predict_mean_0=Linear_regr(features_train_0, features_valid_0, target_train_0, target_valid_0)  \n",
    "print('В регионе 0 средний запас предсказанного сырья',round(predict_mean_0,2),'RMSE модели',round(rmse_0,2))\n",
    "# регионе 1\n",
    "predicted_valid_1,rmse_1,predict_mean_1=Linear_regr(features_train_1, features_valid_1, target_train_1, target_valid_1)  \n",
    "print('В регионе 1 средний запас предсказанного сырья',round(predict_mean_1,2),'RMSE модели',round(rmse_1,2))\n",
    "# регионе 2\n",
    "predicted_valid_2,rmse_2,predict_mean_2=Linear_regr(features_train_2, features_valid_2, target_train_2, target_valid_2)  \n",
    "print('В регионе 2 средний запас предсказанного сырья',round(predict_mean_2,2),'RMSE модели',round(rmse_2,2))"
   ]
  },
  {
   "cell_type": "markdown",
   "metadata": {},
   "source": [
    "***Как и предполагалось средняя ошибка у первого региона очень близка к 0 (чем ближе к 0,тем точнее модель предсказывает данные),однако,стоить помнить,что это благодаря высокой корреляции с одним из признаков.***\n",
    "\n",
    "***Модели из 0 и 2 региона показали примерно одинаковый средний запас и ошибку.***"
   ]
  },
  {
   "cell_type": "markdown",
   "metadata": {},
   "source": [
    "## Подготовка к расчёту прибыли"
   ]
  },
  {
   "cell_type": "code",
   "execution_count": 12,
   "metadata": {},
   "outputs": [
    {
     "name": "stdout",
     "output_type": "stream",
     "text": [
      "Средний запас для безубыточной разработки в одной скважине 111.11 баррелей\n"
     ]
    }
   ],
   "source": [
    "# Зададим ключевые константы\n",
    "count = 200\n",
    "bdg = 10000000000 # Бюджет\n",
    "brl_price=450000# Цена барреля нефти\n",
    "# Рассчитаем сколько в среднем должна содержать скважина, чтобы при разработке 200 скважин получить прибыль.\n",
    "mean_noloss = bdg/(200*brl_price)\n",
    "print(\"Средний запас для безубыточной разработки в одной скважине\",round(mean_noloss,2),'баррелей')"
   ]
  },
  {
   "cell_type": "markdown",
   "metadata": {},
   "source": [
    "<div class=\"alert alert-block alert-success\"><b>Комментарий ревьюера </b>\n",
    "    \n",
   
   ]
  },
  {
   "cell_type": "markdown",
   "metadata": {},
   "source": [
    "Мы получили среднее безубыточное на скважину 111 баррелей. Ни один из регионов  таких средних значений не показал.\n",
    "\n",
    "Напишем функцию, которая отсортирует в спрогнозированных значения 200 наиболее крупных скважин и по их индексам посчитает прибыль по фактическим данным."
   ]
  },
  {
   "cell_type": "code",
   "execution_count": 13,
   "metadata": {},
   "outputs": [],
   "source": [
    "def revenue(target, probabilities, count):\n",
    "    probs_sorted = probabilities.sort_values(ascending=False)#сортируем по убыванию \n",
    "    selected = target[probs_sorted.index][:count]# Забираем индексы первых \"count\" самых больших скважин.\n",
    "    return selected.sum()*brl_price-bdg #Считаем прибыль:Суммарный объем скважин*цену барреля - бюджет"
   ]
  },
  {
   "cell_type": "markdown",
   "metadata": {},
   "source": [
    "## Расчёт прибыли и рисков "
   ]
  },
  {
   "cell_type": "markdown",
   "metadata": {},
   "source": [
    "Найдём среднюю прибыль, 95%-й доверительный интервал и риск убытков(отрицательной прибыли).\n"
   ]
  },
  {
   "cell_type": "code",
   "execution_count": 14,
   "metadata": {},
   "outputs": [],
   "source": [
    "state = np.random.RandomState(12345)  \n",
    "def boot(tt,pp):\n",
    "    values = []#\"корзинка\" для значений прибыли.\n",
    "    #Функция бутстрепа (1000 повторений) для 500 скважин и прибыль 200 самых больших из них\n",
    "    for i in range(1000):\n",
    "        target_subsample =tt.sample(n=500, replace=True, random_state=state)\n",
    "        probs_subsample =pp[target_subsample.index] #индексы 200 самых больших из предсказанных \n",
    "        values.append(revenue(target_subsample,probs_subsample,200))\n",
    "    values = pd.Series(values)#собираем значения 1000 значений прибыли из бутстреп\n",
    "    lower = values.quantile(0.025)# Нижний квантиль 95%\n",
    "    upper = values.quantile(.975) #верхний квантиль 95%\n",
    "    mean = values.mean()          #среднее значение прибыли\n",
    "    risk = values.apply(lambda x: x < 0).sum()*100/len(values)#риск убытков.к-во отрицательной прибыли и делим на количетво выборок.\n",
    "    print(\"Доверительный интервал:\",round(lower),\"-\",round(upper),\"млн.\")\n",
    "    print(\"Средняя прибыль млн:\",round(mean),\"млн.\")\n",
    "    print(\"Вероятность убытков\",risk,'%')"
   ]
  },
  {
   "cell_type": "markdown",
   "metadata": {},
   "source": [
    "*** Применим эту функцию для получения необходимых метрик ***"
   ]
  },
  {
   "cell_type": "code",
   "execution_count": 15,
   "metadata": {},
   "outputs": [
    {
     "name": "stdout",
     "output_type": "stream",
     "text": [
      " В регионе '0':\n",
      "Доверительный интервал: -131536029 - 944395583 млн.\n",
      "Средняя прибыль млн: 409428039 млн.\n",
      "Вероятность убытков 7.1 %\n"
     ]
    }
   ],
   "source": [
    "print (\" В регионе '0':\")\n",
    "boot(target_valid_0,predicted_valid_0)"
   ]
  },
  {
   "cell_type": "code",
   "execution_count": 16,
   "metadata": {},
   "outputs": [
    {
     "name": "stdout",
     "output_type": "stream",
     "text": [
      " В регионе '1':\n",
      "Доверительный интервал: 112954247 - 998504157 млн.\n",
      "Средняя прибыль млн: 536400199 млн.\n",
      "Вероятность убытков 0.3 %\n"
     ]
    }
   ],
   "source": [
    "print (\" В регионе '1':\")\n",
    "boot(target_valid_1,predicted_valid_1)"
   ]
  },
  {
   "cell_type": "code",
   "execution_count": 17,
   "metadata": {},
   "outputs": [
    {
     "name": "stdout",
     "output_type": "stream",
     "text": [
      " В регионе '2':\n",
      "Доверительный интервал: -224089222 - 847067588 млн.\n",
      "Средняя прибыль млн: 339478034 млн.\n",
      "Вероятность убытков 11.8 %\n"
     ]
    }
   ],
   "source": [
    "print (\" В регионе '2':\")\n",
    "boot(target_valid_2,predicted_valid_2)"
   ]
  },
  {
   "cell_type": "markdown",
   "metadata": {},
   "source": [
    "*** Итак, по рассчитанным метрикам и условиям задачи,единственный регион ,рекомендованный к разработке это регион №1. У него наибольшая средняя прибыль, доверительный интервал целиком лежит на положительной оси и вероятность убытка удовлетворяет 2.5%. ***"
   ]
  },
  {
   "cell_type": "markdown",
   "metadata": {},
   "source": [
    " ### Выводы.\n",
    " \n",
    " *** По итогам проекта нами были загружены и исследованы данные георазведки 3х регионов. ***\n",
    " \n",
    " *** - на этапе предобработки информации данные были загружены. Пропусков не было,но были обнаружены единичные неявные дубликаты по одинаковым идентефикаторам скважин,которые были удалены. Также был удален столбец индентефикатор,неинформативный для обучения модели.***\n",
    " \n",
    " *** -на исторических данных была построена и обучена модель логистической регрессии для прогнозирования запаса объема скважин.***\n",
    " \n",
    " *** - С помощью помощью процедуры Bootstrep смоделировано 1000 выборок по 500 скважин и индексам 200та наиболее больших предсказанных запасов посчитали прибыль,соответствующую реальным историческим запасам. На основании множества этих расчетов был спрогнозирован 95 процентный доверительный интервал, средняя прибыль и вероятность получить убыток для каждого региона. ***\n",
    " \n",
    " *** По итогам прогнозирования для разработки рекомендован регион \"1\". У него максимальня средняя прибыль, доверительный интервал целиком лежит на положительной оси. И по условиям уровень риска не должен превышать 2.5 %. Этот регион единственный удовлетворяющий этому условию. ***\n",
    " "
   ]
  }
 ],
 "metadata": {
  "ExecuteTimeLog": [
   {
    "duration": 321,
    "start_time": "2023-05-16T06:30:24.258Z"
   },
   {
    "duration": 3,
    "start_time": "2023-05-16T06:30:27.685Z"
   },
   {
    "duration": 1542,
    "start_time": "2023-05-16T06:30:58.466Z"
   },
   {
    "duration": 328,
    "start_time": "2023-05-16T06:31:58.396Z"
   },
   {
    "duration": 31,
    "start_time": "2023-05-16T06:33:07.092Z"
   },
   {
    "duration": 44,
    "start_time": "2023-05-16T06:35:29.066Z"
   },
   {
    "duration": 49,
    "start_time": "2023-05-16T06:36:07.798Z"
   },
   {
    "duration": 28,
    "start_time": "2023-05-16T06:36:36.894Z"
   },
   {
    "duration": 39,
    "start_time": "2023-05-16T06:40:33.179Z"
   },
   {
    "duration": 41,
    "start_time": "2023-05-16T06:41:23.322Z"
   },
   {
    "duration": 51,
    "start_time": "2023-05-16T06:42:01.566Z"
   },
   {
    "duration": 49,
    "start_time": "2023-05-16T06:42:17.775Z"
   },
   {
    "duration": 70,
    "start_time": "2023-05-16T06:42:52.589Z"
   },
   {
    "duration": 42,
    "start_time": "2023-05-16T06:43:00.017Z"
   },
   {
    "duration": 40,
    "start_time": "2023-05-16T06:43:38.075Z"
   },
   {
    "duration": 144,
    "start_time": "2023-05-16T06:52:12.863Z"
   },
   {
    "duration": 57,
    "start_time": "2023-05-16T06:55:17.230Z"
   },
   {
    "duration": 118,
    "start_time": "2023-05-16T06:55:30.199Z"
   },
   {
    "duration": 55,
    "start_time": "2023-05-16T06:55:53.171Z"
   },
   {
    "duration": 83,
    "start_time": "2023-05-16T07:50:39.718Z"
   },
   {
    "duration": 13,
    "start_time": "2023-05-16T07:50:48.774Z"
   },
   {
    "duration": 11,
    "start_time": "2023-05-16T07:52:04.341Z"
   },
   {
    "duration": 97,
    "start_time": "2023-05-16T07:52:17.642Z"
   },
   {
    "duration": 44,
    "start_time": "2023-05-16T07:53:47.528Z"
   },
   {
    "duration": 14,
    "start_time": "2023-05-16T07:53:53.991Z"
   },
   {
    "duration": 12,
    "start_time": "2023-05-16T07:54:08.576Z"
   },
   {
    "duration": 97,
    "start_time": "2023-05-16T08:14:15.618Z"
   },
   {
    "duration": 39,
    "start_time": "2023-05-16T08:14:48.294Z"
   },
   {
    "duration": 41,
    "start_time": "2023-05-16T08:20:38.377Z"
   },
   {
    "duration": 40,
    "start_time": "2023-05-16T08:21:49.550Z"
   },
   {
    "duration": 40,
    "start_time": "2023-05-16T08:22:00.690Z"
   },
   {
    "duration": 102,
    "start_time": "2023-05-16T08:22:07.890Z"
   },
   {
    "duration": 352,
    "start_time": "2023-05-16T08:23:17.561Z"
   },
   {
    "duration": 374,
    "start_time": "2023-05-16T08:23:57.818Z"
   },
   {
    "duration": 323,
    "start_time": "2023-05-16T08:24:15.116Z"
   },
   {
    "duration": 348,
    "start_time": "2023-05-16T08:24:26.856Z"
   },
   {
    "duration": 46,
    "start_time": "2023-05-16T08:25:40.440Z"
   },
   {
    "duration": 205,
    "start_time": "2023-05-16T08:34:04.162Z"
   },
   {
    "duration": 194,
    "start_time": "2023-05-16T08:38:15.128Z"
   },
   {
    "duration": 208,
    "start_time": "2023-05-16T08:54:36.590Z"
   },
   {
    "duration": 73,
    "start_time": "2023-05-16T09:07:36.251Z"
   },
   {
    "duration": 40,
    "start_time": "2023-05-16T09:07:56.298Z"
   },
   {
    "duration": 46,
    "start_time": "2023-05-16T09:08:22.592Z"
   },
   {
    "duration": 12,
    "start_time": "2023-05-16T09:08:47.945Z"
   },
   {
    "duration": 16,
    "start_time": "2023-05-16T09:08:57.912Z"
   },
   {
    "duration": 39,
    "start_time": "2023-05-16T09:09:18.377Z"
   },
   {
    "duration": 333,
    "start_time": "2023-05-16T09:11:03.248Z"
   },
   {
    "duration": 8,
    "start_time": "2023-05-16T09:25:08.187Z"
   },
   {
    "duration": 52,
    "start_time": "2023-05-16T09:25:17.285Z"
   },
   {
    "duration": 47,
    "start_time": "2023-05-16T09:26:35.324Z"
   },
   {
    "duration": 58,
    "start_time": "2023-05-16T09:26:43.394Z"
   },
   {
    "duration": 249,
    "start_time": "2023-05-16T09:29:37.789Z"
   },
   {
    "duration": 244,
    "start_time": "2023-05-16T09:30:13.884Z"
   },
   {
    "duration": 186,
    "start_time": "2023-05-16T09:31:10.100Z"
   },
   {
    "duration": 180,
    "start_time": "2023-05-16T09:31:23.989Z"
   },
   {
    "duration": 157,
    "start_time": "2023-05-16T09:48:31.187Z"
   },
   {
    "duration": 195,
    "start_time": "2023-05-16T09:48:49.899Z"
   },
   {
    "duration": 123,
    "start_time": "2023-05-16T10:05:19.786Z"
   },
   {
    "duration": 319,
    "start_time": "2023-05-16T10:05:36.084Z"
   },
   {
    "duration": 78,
    "start_time": "2023-05-16T10:08:51.626Z"
   },
   {
    "duration": 102,
    "start_time": "2023-05-16T10:08:58.783Z"
   },
   {
    "duration": 59,
    "start_time": "2023-05-16T10:09:08.841Z"
   },
   {
    "duration": 62,
    "start_time": "2023-05-16T10:09:24.629Z"
   },
   {
    "duration": 7,
    "start_time": "2023-05-16T10:12:16.388Z"
   },
   {
    "duration": 169,
    "start_time": "2023-05-16T10:12:55.483Z"
   },
   {
    "duration": 49,
    "start_time": "2023-05-16T10:13:15.230Z"
   },
   {
    "duration": 46,
    "start_time": "2023-05-16T10:13:26.415Z"
   },
   {
    "duration": 47,
    "start_time": "2023-05-16T10:13:58.088Z"
   },
   {
    "duration": 112,
    "start_time": "2023-05-16T10:17:47.483Z"
   },
   {
    "duration": 206,
    "start_time": "2023-05-16T10:20:16.653Z"
   },
   {
    "duration": 35,
    "start_time": "2023-05-16T10:22:20.258Z"
   },
   {
    "duration": 47,
    "start_time": "2023-05-16T10:27:11.554Z"
   },
   {
    "duration": 1539,
    "start_time": "2023-05-16T10:27:22.285Z"
   },
   {
    "duration": 460,
    "start_time": "2023-05-16T10:27:23.834Z"
   },
   {
    "duration": 225,
    "start_time": "2023-05-16T10:27:24.296Z"
   },
   {
    "duration": 50,
    "start_time": "2023-05-16T10:27:24.523Z"
   },
   {
    "duration": 126,
    "start_time": "2023-05-16T10:27:24.574Z"
   },
   {
    "duration": 248,
    "start_time": "2023-05-16T10:27:24.701Z"
   },
   {
    "duration": 156,
    "start_time": "2023-05-16T10:28:30.673Z"
   },
   {
    "duration": 221,
    "start_time": "2023-05-16T10:28:58.378Z"
   },
   {
    "duration": 295,
    "start_time": "2023-05-16T10:30:24.949Z"
   },
   {
    "duration": 267,
    "start_time": "2023-05-16T10:31:04.092Z"
   },
   {
    "duration": 286,
    "start_time": "2023-05-16T10:31:21.468Z"
   },
   {
    "duration": 105,
    "start_time": "2023-05-16T10:31:47.397Z"
   },
   {
    "duration": 264,
    "start_time": "2023-05-16T10:31:55.529Z"
   },
   {
    "duration": 229,
    "start_time": "2023-05-16T10:32:21.289Z"
   },
   {
    "duration": 237,
    "start_time": "2023-05-16T10:39:56.665Z"
   },
   {
    "duration": 180,
    "start_time": "2023-05-16T10:48:41.062Z"
   },
   {
    "duration": 1478,
    "start_time": "2023-05-16T14:46:51.918Z"
   },
   {
    "duration": 2249,
    "start_time": "2023-05-16T14:46:53.398Z"
   },
   {
    "duration": 224,
    "start_time": "2023-05-16T14:46:55.649Z"
   },
   {
    "duration": 142,
    "start_time": "2023-05-16T14:46:55.875Z"
   },
   {
    "duration": 0,
    "start_time": "2023-05-16T14:46:56.019Z"
   },
   {
    "duration": 0,
    "start_time": "2023-05-16T14:46:56.021Z"
   },
   {
    "duration": 0,
    "start_time": "2023-05-16T14:46:56.022Z"
   },
   {
    "duration": 0,
    "start_time": "2023-05-16T14:46:56.024Z"
   },
   {
    "duration": 13,
    "start_time": "2023-05-16T14:47:12.774Z"
   },
   {
    "duration": 74,
    "start_time": "2023-05-16T14:47:49.974Z"
   },
   {
    "duration": 163,
    "start_time": "2023-05-16T14:48:02.032Z"
   },
   {
    "duration": 1319,
    "start_time": "2023-05-16T14:48:27.466Z"
   },
   {
    "duration": 461,
    "start_time": "2023-05-16T14:48:28.787Z"
   },
   {
    "duration": 265,
    "start_time": "2023-05-16T14:48:29.250Z"
   },
   {
    "duration": 75,
    "start_time": "2023-05-16T14:48:29.516Z"
   },
   {
    "duration": 185,
    "start_time": "2023-05-16T14:48:29.596Z"
   },
   {
    "duration": 343,
    "start_time": "2023-05-16T14:48:29.783Z"
   },
   {
    "duration": 300,
    "start_time": "2023-05-16T14:48:30.128Z"
   },
   {
    "duration": 296,
    "start_time": "2023-05-16T14:48:30.433Z"
   },
   {
    "duration": 140,
    "start_time": "2023-05-16T14:50:27.729Z"
   },
   {
    "duration": 14,
    "start_time": "2023-05-16T14:51:47.063Z"
   },
   {
    "duration": 28,
    "start_time": "2023-05-16T14:52:08.059Z"
   },
   {
    "duration": 57,
    "start_time": "2023-05-16T14:53:01.900Z"
   },
   {
    "duration": 64,
    "start_time": "2023-05-16T14:53:23.281Z"
   },
   {
    "duration": 106,
    "start_time": "2023-05-16T14:53:41.108Z"
   },
   {
    "duration": 49,
    "start_time": "2023-05-16T14:53:45.404Z"
   },
   {
    "duration": 63,
    "start_time": "2023-05-16T14:54:03.161Z"
   },
   {
    "duration": 58,
    "start_time": "2023-05-16T14:55:06.324Z"
   },
   {
    "duration": 250,
    "start_time": "2023-05-16T14:59:08.668Z"
   },
   {
    "duration": 509,
    "start_time": "2023-05-16T15:01:59.961Z"
   },
   {
    "duration": 103,
    "start_time": "2023-05-16T15:02:47.955Z"
   },
   {
    "duration": 505,
    "start_time": "2023-05-16T15:03:33.309Z"
   },
   {
    "duration": 516,
    "start_time": "2023-05-16T15:04:57.058Z"
   },
   {
    "duration": 544,
    "start_time": "2023-05-16T15:05:22.257Z"
   },
   {
    "duration": 482,
    "start_time": "2023-05-16T15:05:35.159Z"
   },
   {
    "duration": 567,
    "start_time": "2023-05-16T15:05:52.087Z"
   },
   {
    "duration": 562,
    "start_time": "2023-05-16T15:05:56.773Z"
   },
   {
    "duration": 47,
    "start_time": "2023-05-16T15:06:35.339Z"
   },
   {
    "duration": 90,
    "start_time": "2023-05-16T15:06:55.179Z"
   },
   {
    "duration": 274,
    "start_time": "2023-05-16T15:07:02.484Z"
   },
   {
    "duration": 532,
    "start_time": "2023-05-16T15:08:13.110Z"
   },
   {
    "duration": 504,
    "start_time": "2023-05-16T15:08:49.039Z"
   },
   {
    "duration": 160,
    "start_time": "2023-05-16T15:10:00.356Z"
   },
   {
    "duration": 306,
    "start_time": "2023-05-16T15:11:12.859Z"
   },
   {
    "duration": 100,
    "start_time": "2023-05-16T15:11:27.786Z"
   },
   {
    "duration": 503,
    "start_time": "2023-05-16T15:12:02.947Z"
   },
   {
    "duration": 1429,
    "start_time": "2023-05-16T15:12:26.288Z"
   },
   {
    "duration": 505,
    "start_time": "2023-05-16T15:12:27.719Z"
   },
   {
    "duration": 253,
    "start_time": "2023-05-16T15:12:28.233Z"
   },
   {
    "duration": 0,
    "start_time": "2023-05-16T15:12:28.495Z"
   },
   {
    "duration": 0,
    "start_time": "2023-05-16T15:12:28.496Z"
   },
   {
    "duration": 0,
    "start_time": "2023-05-16T15:12:28.497Z"
   },
   {
    "duration": 0,
    "start_time": "2023-05-16T15:12:28.497Z"
   },
   {
    "duration": 0,
    "start_time": "2023-05-16T15:12:28.498Z"
   },
   {
    "duration": 102,
    "start_time": "2023-05-16T15:13:08.437Z"
   },
   {
    "duration": 52,
    "start_time": "2023-05-16T16:48:44.024Z"
   },
   {
    "duration": 1370,
    "start_time": "2023-05-16T16:49:03.405Z"
   },
   {
    "duration": 839,
    "start_time": "2023-05-16T16:49:04.777Z"
   },
   {
    "duration": 176,
    "start_time": "2023-05-16T16:49:05.618Z"
   },
   {
    "duration": 0,
    "start_time": "2023-05-16T16:49:05.795Z"
   },
   {
    "duration": 0,
    "start_time": "2023-05-16T16:49:05.796Z"
   },
   {
    "duration": 0,
    "start_time": "2023-05-16T16:49:05.797Z"
   },
   {
    "duration": 0,
    "start_time": "2023-05-16T16:49:05.798Z"
   },
   {
    "duration": 0,
    "start_time": "2023-05-16T16:49:05.798Z"
   },
   {
    "duration": 1083,
    "start_time": "2023-05-16T16:50:08.955Z"
   },
   {
    "duration": 344,
    "start_time": "2023-05-16T16:50:10.040Z"
   },
   {
    "duration": 183,
    "start_time": "2023-05-16T16:50:10.386Z"
   },
   {
    "duration": 48,
    "start_time": "2023-05-16T16:50:10.571Z"
   },
   {
    "duration": 75,
    "start_time": "2023-05-16T16:50:10.620Z"
   },
   {
    "duration": 250,
    "start_time": "2023-05-16T16:50:10.697Z"
   },
   {
    "duration": 182,
    "start_time": "2023-05-16T16:50:10.948Z"
   },
   {
    "duration": 179,
    "start_time": "2023-05-16T16:50:11.132Z"
   },
   {
    "duration": 469,
    "start_time": "2023-05-16T16:52:24.613Z"
   },
   {
    "duration": 366,
    "start_time": "2023-05-16T16:52:44.902Z"
   },
   {
    "duration": 334,
    "start_time": "2023-05-16T16:53:07.700Z"
   },
   {
    "duration": 59,
    "start_time": "2023-05-16T16:54:08.845Z"
   },
   {
    "duration": 1202,
    "start_time": "2023-05-16T16:54:26.851Z"
   },
   {
    "duration": 365,
    "start_time": "2023-05-16T16:54:28.056Z"
   },
   {
    "duration": 202,
    "start_time": "2023-05-16T16:54:28.423Z"
   },
   {
    "duration": 41,
    "start_time": "2023-05-16T16:54:28.626Z"
   },
   {
    "duration": 83,
    "start_time": "2023-05-16T16:54:28.669Z"
   },
   {
    "duration": 238,
    "start_time": "2023-05-16T16:54:28.755Z"
   },
   {
    "duration": 195,
    "start_time": "2023-05-16T16:54:28.994Z"
   },
   {
    "duration": 233,
    "start_time": "2023-05-16T16:54:29.191Z"
   },
   {
    "duration": 172,
    "start_time": "2023-05-16T16:58:32.400Z"
   },
   {
    "duration": 1217,
    "start_time": "2023-05-16T16:58:56.853Z"
   },
   {
    "duration": 375,
    "start_time": "2023-05-16T16:58:58.072Z"
   },
   {
    "duration": 224,
    "start_time": "2023-05-16T16:58:58.449Z"
   },
   {
    "duration": 64,
    "start_time": "2023-05-16T16:58:58.675Z"
   },
   {
    "duration": 84,
    "start_time": "2023-05-16T16:58:58.742Z"
   },
   {
    "duration": 258,
    "start_time": "2023-05-16T16:58:58.828Z"
   },
   {
    "duration": 230,
    "start_time": "2023-05-16T16:58:59.088Z"
   },
   {
    "duration": 280,
    "start_time": "2023-05-16T16:58:59.320Z"
   },
   {
    "duration": 13,
    "start_time": "2023-05-16T17:18:36.603Z"
   },
   {
    "duration": 1247,
    "start_time": "2023-05-16T17:18:44.090Z"
   },
   {
    "duration": 348,
    "start_time": "2023-05-16T17:18:45.339Z"
   },
   {
    "duration": 200,
    "start_time": "2023-05-16T17:18:45.689Z"
   },
   {
    "duration": 46,
    "start_time": "2023-05-16T17:18:45.891Z"
   },
   {
    "duration": 85,
    "start_time": "2023-05-16T17:18:45.940Z"
   },
   {
    "duration": 15,
    "start_time": "2023-05-16T17:18:46.026Z"
   },
   {
    "duration": 221,
    "start_time": "2023-05-16T17:18:46.043Z"
   },
   {
    "duration": 191,
    "start_time": "2023-05-16T17:18:46.266Z"
   },
   {
    "duration": 195,
    "start_time": "2023-05-16T17:18:46.458Z"
   },
   {
    "duration": 156,
    "start_time": "2023-05-16T17:20:54.700Z"
   },
   {
    "duration": 12,
    "start_time": "2023-05-16T17:21:48.607Z"
   },
   {
    "duration": 8,
    "start_time": "2023-05-16T17:21:59.003Z"
   },
   {
    "duration": 9,
    "start_time": "2023-05-16T17:22:36.808Z"
   },
   {
    "duration": 3,
    "start_time": "2023-05-16T17:23:45.755Z"
   },
   {
    "duration": 9,
    "start_time": "2023-05-16T17:24:00.310Z"
   },
   {
    "duration": 12,
    "start_time": "2023-05-16T17:24:04.302Z"
   },
   {
    "duration": 1191,
    "start_time": "2023-05-16T17:24:53.488Z"
   },
   {
    "duration": 436,
    "start_time": "2023-05-16T17:24:54.683Z"
   },
   {
    "duration": 183,
    "start_time": "2023-05-16T17:24:55.121Z"
   },
   {
    "duration": 47,
    "start_time": "2023-05-16T17:24:55.305Z"
   },
   {
    "duration": 82,
    "start_time": "2023-05-16T17:24:55.354Z"
   },
   {
    "duration": 15,
    "start_time": "2023-05-16T17:24:55.438Z"
   },
   {
    "duration": 222,
    "start_time": "2023-05-16T17:24:55.454Z"
   },
   {
    "duration": 228,
    "start_time": "2023-05-16T17:24:55.678Z"
   },
   {
    "duration": 224,
    "start_time": "2023-05-16T17:24:55.909Z"
   },
   {
    "duration": 155,
    "start_time": "2023-05-16T17:24:56.135Z"
   },
   {
    "duration": 1386,
    "start_time": "2023-05-16T17:25:13.812Z"
   },
   {
    "duration": 416,
    "start_time": "2023-05-16T17:25:15.201Z"
   },
   {
    "duration": 217,
    "start_time": "2023-05-16T17:25:15.619Z"
   },
   {
    "duration": 48,
    "start_time": "2023-05-16T17:25:15.838Z"
   },
   {
    "duration": 83,
    "start_time": "2023-05-16T17:25:15.888Z"
   },
   {
    "duration": 22,
    "start_time": "2023-05-16T17:25:15.973Z"
   },
   {
    "duration": 246,
    "start_time": "2023-05-16T17:25:15.997Z"
   },
   {
    "duration": 219,
    "start_time": "2023-05-16T17:25:16.244Z"
   },
   {
    "duration": 237,
    "start_time": "2023-05-16T17:25:16.465Z"
   },
   {
    "duration": 1308,
    "start_time": "2023-05-17T05:55:45.458Z"
   },
   {
    "duration": 787,
    "start_time": "2023-05-17T05:55:46.768Z"
   },
   {
    "duration": 184,
    "start_time": "2023-05-17T05:55:47.556Z"
   },
   {
    "duration": 35,
    "start_time": "2023-05-17T05:55:47.742Z"
   },
   {
    "duration": 76,
    "start_time": "2023-05-17T05:55:47.778Z"
   },
   {
    "duration": 15,
    "start_time": "2023-05-17T05:55:47.855Z"
   },
   {
    "duration": 240,
    "start_time": "2023-05-17T05:55:47.871Z"
   },
   {
    "duration": 187,
    "start_time": "2023-05-17T05:55:48.112Z"
   },
   {
    "duration": 208,
    "start_time": "2023-05-17T05:55:48.301Z"
   },
   {
    "duration": 103,
    "start_time": "2023-05-17T06:21:49.309Z"
   },
   {
    "duration": 268,
    "start_time": "2023-05-17T06:22:52.086Z"
   },
   {
    "duration": 1313,
    "start_time": "2023-05-17T06:22:57.839Z"
   },
   {
    "duration": 373,
    "start_time": "2023-05-17T06:22:59.154Z"
   },
   {
    "duration": 203,
    "start_time": "2023-05-17T06:22:59.529Z"
   },
   {
    "duration": 39,
    "start_time": "2023-05-17T06:22:59.734Z"
   },
   {
    "duration": 73,
    "start_time": "2023-05-17T06:22:59.775Z"
   },
   {
    "duration": 16,
    "start_time": "2023-05-17T06:22:59.850Z"
   },
   {
    "duration": 222,
    "start_time": "2023-05-17T06:22:59.867Z"
   },
   {
    "duration": 194,
    "start_time": "2023-05-17T06:23:00.095Z"
   },
   {
    "duration": 219,
    "start_time": "2023-05-17T06:23:00.296Z"
   },
   {
    "duration": 139,
    "start_time": "2023-05-17T06:23:00.517Z"
   },
   {
    "duration": 31,
    "start_time": "2023-05-17T06:23:52.356Z"
   },
   {
    "duration": 27,
    "start_time": "2023-05-17T06:24:26.415Z"
   },
   {
    "duration": 27,
    "start_time": "2023-05-17T06:39:52.007Z"
   },
   {
    "duration": 164,
    "start_time": "2023-05-17T07:10:36.545Z"
   },
   {
    "duration": 13,
    "start_time": "2023-05-17T07:10:46.620Z"
   },
   {
    "duration": 1454,
    "start_time": "2023-05-17T07:11:20.189Z"
   },
   {
    "duration": 397,
    "start_time": "2023-05-17T07:11:21.644Z"
   },
   {
    "duration": 198,
    "start_time": "2023-05-17T07:11:22.043Z"
   },
   {
    "duration": 36,
    "start_time": "2023-05-17T07:11:22.243Z"
   },
   {
    "duration": 84,
    "start_time": "2023-05-17T07:11:22.280Z"
   },
   {
    "duration": 15,
    "start_time": "2023-05-17T07:11:22.365Z"
   },
   {
    "duration": 229,
    "start_time": "2023-05-17T07:11:22.382Z"
   },
   {
    "duration": 189,
    "start_time": "2023-05-17T07:11:22.613Z"
   },
   {
    "duration": 182,
    "start_time": "2023-05-17T07:11:22.804Z"
   },
   {
    "duration": 39,
    "start_time": "2023-05-17T07:11:22.988Z"
   },
   {
    "duration": 254,
    "start_time": "2023-05-17T07:11:23.028Z"
   },
   {
    "duration": 1676,
    "start_time": "2023-05-17T07:12:03.813Z"
   },
   {
    "duration": 397,
    "start_time": "2023-05-17T07:12:05.491Z"
   },
   {
    "duration": 192,
    "start_time": "2023-05-17T07:12:05.890Z"
   },
   {
    "duration": 63,
    "start_time": "2023-05-17T07:12:06.084Z"
   },
   {
    "duration": 103,
    "start_time": "2023-05-17T07:12:06.149Z"
   },
   {
    "duration": 15,
    "start_time": "2023-05-17T07:12:06.254Z"
   },
   {
    "duration": 248,
    "start_time": "2023-05-17T07:12:06.271Z"
   },
   {
    "duration": 215,
    "start_time": "2023-05-17T07:12:06.521Z"
   },
   {
    "duration": 202,
    "start_time": "2023-05-17T07:12:06.737Z"
   },
   {
    "duration": 30,
    "start_time": "2023-05-17T07:12:06.941Z"
   },
   {
    "duration": 42,
    "start_time": "2023-05-17T07:12:06.973Z"
   },
   {
    "duration": 24,
    "start_time": "2023-05-17T07:12:30.394Z"
   },
   {
    "duration": 29,
    "start_time": "2023-05-17T07:15:21.875Z"
   },
   {
    "duration": 286,
    "start_time": "2023-05-17T07:19:16.112Z"
   },
   {
    "duration": 40,
    "start_time": "2023-05-17T07:19:23.357Z"
   },
   {
    "duration": 20,
    "start_time": "2023-05-17T07:21:13.493Z"
   },
   {
    "duration": 129,
    "start_time": "2023-05-17T07:23:22.285Z"
   },
   {
    "duration": 31,
    "start_time": "2023-05-17T07:23:49.475Z"
   },
   {
    "duration": 191,
    "start_time": "2023-05-17T07:25:39.439Z"
   },
   {
    "duration": 137,
    "start_time": "2023-05-17T07:27:58.776Z"
   },
   {
    "duration": 1651,
    "start_time": "2023-05-17T15:23:01.174Z"
   },
   {
    "duration": 745,
    "start_time": "2023-05-17T15:23:02.828Z"
   },
   {
    "duration": 180,
    "start_time": "2023-05-17T15:23:03.574Z"
   },
   {
    "duration": 42,
    "start_time": "2023-05-17T15:23:03.756Z"
   },
   {
    "duration": 85,
    "start_time": "2023-05-17T15:23:03.800Z"
   },
   {
    "duration": 16,
    "start_time": "2023-05-17T15:23:03.887Z"
   },
   {
    "duration": 220,
    "start_time": "2023-05-17T15:23:03.904Z"
   },
   {
    "duration": 179,
    "start_time": "2023-05-17T15:23:04.126Z"
   },
   {
    "duration": 189,
    "start_time": "2023-05-17T15:23:04.307Z"
   },
   {
    "duration": 51,
    "start_time": "2023-05-17T15:23:04.498Z"
   },
   {
    "duration": 189,
    "start_time": "2023-05-17T15:23:04.551Z"
   },
   {
    "duration": 4,
    "start_time": "2023-05-17T15:23:04.825Z"
   },
   {
    "duration": 172,
    "start_time": "2023-05-17T15:24:21.114Z"
   },
   {
    "duration": 4,
    "start_time": "2023-05-17T15:24:27.446Z"
   },
   {
    "duration": 4,
    "start_time": "2023-05-17T15:24:53.879Z"
   },
   {
    "duration": 5,
    "start_time": "2023-05-17T16:39:14.637Z"
   },
   {
    "duration": 4,
    "start_time": "2023-05-17T16:40:15.449Z"
   },
   {
    "duration": 75,
    "start_time": "2023-05-17T17:28:50.723Z"
   },
   {
    "duration": 86,
    "start_time": "2023-05-17T17:29:12.039Z"
   },
   {
    "duration": 117,
    "start_time": "2023-05-17T17:29:19.921Z"
   },
   {
    "duration": 4,
    "start_time": "2023-05-17T17:29:34.454Z"
   },
   {
    "duration": 8,
    "start_time": "2023-05-17T17:32:13.315Z"
   },
   {
    "duration": 1369,
    "start_time": "2023-05-17T17:32:21.205Z"
   },
   {
    "duration": 373,
    "start_time": "2023-05-17T17:32:22.576Z"
   },
   {
    "duration": 204,
    "start_time": "2023-05-17T17:32:22.951Z"
   },
   {
    "duration": 52,
    "start_time": "2023-05-17T17:32:23.157Z"
   },
   {
    "duration": 83,
    "start_time": "2023-05-17T17:32:23.225Z"
   },
   {
    "duration": 28,
    "start_time": "2023-05-17T17:32:23.310Z"
   },
   {
    "duration": 302,
    "start_time": "2023-05-17T17:32:23.341Z"
   },
   {
    "duration": 213,
    "start_time": "2023-05-17T17:32:23.645Z"
   },
   {
    "duration": 201,
    "start_time": "2023-05-17T17:32:23.860Z"
   },
   {
    "duration": 31,
    "start_time": "2023-05-17T17:32:24.063Z"
   },
   {
    "duration": 231,
    "start_time": "2023-05-17T17:32:24.096Z"
   },
   {
    "duration": 5,
    "start_time": "2023-05-17T17:32:24.330Z"
   },
   {
    "duration": 113,
    "start_time": "2023-05-17T17:32:24.336Z"
   },
   {
    "duration": 69,
    "start_time": "2023-05-17T17:32:24.451Z"
   },
   {
    "duration": 187,
    "start_time": "2023-05-17T17:32:24.522Z"
   },
   {
    "duration": 18,
    "start_time": "2023-05-17T17:32:37.939Z"
   },
   {
    "duration": 5,
    "start_time": "2023-05-17T17:34:23.221Z"
   },
   {
    "duration": 15,
    "start_time": "2023-05-17T17:45:24.793Z"
   },
   {
    "duration": 13,
    "start_time": "2023-05-17T17:50:11.001Z"
   },
   {
    "duration": 4,
    "start_time": "2023-05-17T17:50:22.509Z"
   },
   {
    "duration": 19,
    "start_time": "2023-05-17T17:50:27.089Z"
   },
   {
    "duration": 14,
    "start_time": "2023-05-17T17:56:55.996Z"
   },
   {
    "duration": 68,
    "start_time": "2023-05-17T18:03:11.796Z"
   },
   {
    "duration": 3,
    "start_time": "2023-05-17T18:03:27.888Z"
   },
   {
    "duration": 12,
    "start_time": "2023-05-17T18:05:49.028Z"
   },
   {
    "duration": 3,
    "start_time": "2023-05-17T18:08:14.019Z"
   },
   {
    "duration": 11,
    "start_time": "2023-05-17T18:08:27.512Z"
   },
   {
    "duration": 9,
    "start_time": "2023-05-17T18:09:10.708Z"
   },
   {
    "duration": 4,
    "start_time": "2023-05-17T18:09:22.129Z"
   },
   {
    "duration": 9,
    "start_time": "2023-05-17T18:15:26.943Z"
   },
   {
    "duration": 9,
    "start_time": "2023-05-17T18:16:06.024Z"
   },
   {
    "duration": 9,
    "start_time": "2023-05-17T18:18:33.393Z"
   },
   {
    "duration": 4,
    "start_time": "2023-05-17T18:20:56.232Z"
   },
   {
    "duration": 4,
    "start_time": "2023-05-17T18:25:04.998Z"
   },
   {
    "duration": 10,
    "start_time": "2023-05-17T18:26:14.710Z"
   },
   {
    "duration": 4,
    "start_time": "2023-05-17T18:26:49.694Z"
   },
   {
    "duration": 4,
    "start_time": "2023-05-17T18:33:56.503Z"
   },
   {
    "duration": 6,
    "start_time": "2023-05-17T18:34:22.303Z"
   },
   {
    "duration": 9,
    "start_time": "2023-05-17T18:39:37.086Z"
   },
   {
    "duration": 13,
    "start_time": "2023-05-17T18:39:49.450Z"
   },
   {
    "duration": 3,
    "start_time": "2023-05-17T18:42:25.804Z"
   },
   {
    "duration": 6,
    "start_time": "2023-05-17T18:45:47.543Z"
   },
   {
    "duration": 5,
    "start_time": "2023-05-17T18:48:00.589Z"
   },
   {
    "duration": 5,
    "start_time": "2023-05-17T18:48:15.197Z"
   },
   {
    "duration": 7,
    "start_time": "2023-05-17T18:53:31.259Z"
   },
   {
    "duration": 7,
    "start_time": "2023-05-17T18:53:48.094Z"
   },
   {
    "duration": 12,
    "start_time": "2023-05-17T18:54:19.017Z"
   },
   {
    "duration": 8,
    "start_time": "2023-05-17T18:54:33.114Z"
   },
   {
    "duration": 1477,
    "start_time": "2023-05-17T18:55:07.105Z"
   },
   {
    "duration": 426,
    "start_time": "2023-05-17T18:55:08.584Z"
   },
   {
    "duration": 212,
    "start_time": "2023-05-17T18:55:09.012Z"
   },
   {
    "duration": 55,
    "start_time": "2023-05-17T18:55:09.226Z"
   },
   {
    "duration": 99,
    "start_time": "2023-05-17T18:55:09.284Z"
   },
   {
    "duration": 17,
    "start_time": "2023-05-17T18:55:09.385Z"
   },
   {
    "duration": 264,
    "start_time": "2023-05-17T18:55:09.404Z"
   },
   {
    "duration": 237,
    "start_time": "2023-05-17T18:55:09.669Z"
   },
   {
    "duration": 231,
    "start_time": "2023-05-17T18:55:09.908Z"
   },
   {
    "duration": 33,
    "start_time": "2023-05-17T18:55:10.141Z"
   },
   {
    "duration": 161,
    "start_time": "2023-05-17T18:55:10.176Z"
   },
   {
    "duration": 6,
    "start_time": "2023-05-17T18:55:10.426Z"
   },
   {
    "duration": 108,
    "start_time": "2023-05-17T18:55:10.434Z"
   },
   {
    "duration": 37,
    "start_time": "2023-05-17T18:55:10.545Z"
   },
   {
    "duration": 145,
    "start_time": "2023-05-17T18:55:10.584Z"
   },
   {
    "duration": 3,
    "start_time": "2023-05-17T18:55:36.393Z"
   },
   {
    "duration": 13,
    "start_time": "2023-05-17T18:55:42.005Z"
   },
   {
    "duration": 1438,
    "start_time": "2023-05-17T19:11:39.653Z"
   },
   {
    "duration": 412,
    "start_time": "2023-05-17T19:11:41.093Z"
   },
   {
    "duration": 248,
    "start_time": "2023-05-17T19:11:41.507Z"
   },
   {
    "duration": 49,
    "start_time": "2023-05-17T19:11:41.757Z"
   },
   {
    "duration": 99,
    "start_time": "2023-05-17T19:11:41.808Z"
   },
   {
    "duration": 28,
    "start_time": "2023-05-17T19:11:41.909Z"
   },
   {
    "duration": 265,
    "start_time": "2023-05-17T19:11:41.940Z"
   },
   {
    "duration": 194,
    "start_time": "2023-05-17T19:11:42.207Z"
   },
   {
    "duration": 204,
    "start_time": "2023-05-17T19:11:42.402Z"
   },
   {
    "duration": 43,
    "start_time": "2023-05-17T19:11:42.608Z"
   },
   {
    "duration": 184,
    "start_time": "2023-05-17T19:11:42.652Z"
   },
   {
    "duration": 94,
    "start_time": "2023-05-17T19:11:42.842Z"
   },
   {
    "duration": 20,
    "start_time": "2023-05-17T19:11:42.939Z"
   },
   {
    "duration": 12,
    "start_time": "2023-05-17T19:11:42.962Z"
   },
   {
    "duration": 123,
    "start_time": "2023-05-17T19:11:42.975Z"
   },
   {
    "duration": 1300,
    "start_time": "2023-05-17T19:12:30.393Z"
   },
   {
    "duration": 384,
    "start_time": "2023-05-17T19:12:31.694Z"
   },
   {
    "duration": 199,
    "start_time": "2023-05-17T19:12:32.080Z"
   },
   {
    "duration": 51,
    "start_time": "2023-05-17T19:12:32.280Z"
   },
   {
    "duration": 73,
    "start_time": "2023-05-17T19:12:32.334Z"
   },
   {
    "duration": 27,
    "start_time": "2023-05-17T19:12:32.409Z"
   },
   {
    "duration": 228,
    "start_time": "2023-05-17T19:12:32.441Z"
   },
   {
    "duration": 194,
    "start_time": "2023-05-17T19:12:32.671Z"
   },
   {
    "duration": 202,
    "start_time": "2023-05-17T19:12:32.866Z"
   },
   {
    "duration": 32,
    "start_time": "2023-05-17T19:12:33.070Z"
   },
   {
    "duration": 229,
    "start_time": "2023-05-17T19:12:33.103Z"
   },
   {
    "duration": 8,
    "start_time": "2023-05-17T19:12:33.334Z"
   },
   {
    "duration": 97,
    "start_time": "2023-05-17T19:12:33.345Z"
   },
   {
    "duration": 13,
    "start_time": "2023-05-17T19:12:33.445Z"
   },
   {
    "duration": 3,
    "start_time": "2023-05-17T19:13:25.109Z"
   },
   {
    "duration": 1391,
    "start_time": "2023-05-17T19:30:22.209Z"
   },
   {
    "duration": 354,
    "start_time": "2023-05-17T19:30:23.602Z"
   },
   {
    "duration": 181,
    "start_time": "2023-05-17T19:30:23.957Z"
   },
   {
    "duration": 38,
    "start_time": "2023-05-17T19:30:24.140Z"
   },
   {
    "duration": 82,
    "start_time": "2023-05-17T19:30:24.180Z"
   },
   {
    "duration": 17,
    "start_time": "2023-05-17T19:30:24.264Z"
   },
   {
    "duration": 210,
    "start_time": "2023-05-17T19:30:24.283Z"
   },
   {
    "duration": 182,
    "start_time": "2023-05-17T19:30:24.495Z"
   },
   {
    "duration": 193,
    "start_time": "2023-05-17T19:30:24.679Z"
   },
   {
    "duration": 31,
    "start_time": "2023-05-17T19:30:24.874Z"
   },
   {
    "duration": 124,
    "start_time": "2023-05-17T19:30:24.907Z"
   },
   {
    "duration": 197,
    "start_time": "2023-05-17T19:30:25.033Z"
   },
   {
    "duration": 22,
    "start_time": "2023-05-17T19:30:25.232Z"
   },
   {
    "duration": 36,
    "start_time": "2023-05-17T19:30:25.256Z"
   },
   {
    "duration": 1277,
    "start_time": "2023-05-17T19:30:55.176Z"
   },
   {
    "duration": 350,
    "start_time": "2023-05-17T19:30:56.455Z"
   },
   {
    "duration": 179,
    "start_time": "2023-05-17T19:30:56.806Z"
   },
   {
    "duration": 53,
    "start_time": "2023-05-17T19:30:56.987Z"
   },
   {
    "duration": 64,
    "start_time": "2023-05-17T19:30:57.042Z"
   },
   {
    "duration": 32,
    "start_time": "2023-05-17T19:30:57.107Z"
   },
   {
    "duration": 220,
    "start_time": "2023-05-17T19:30:57.141Z"
   },
   {
    "duration": 182,
    "start_time": "2023-05-17T19:30:57.363Z"
   },
   {
    "duration": 191,
    "start_time": "2023-05-17T19:30:57.546Z"
   },
   {
    "duration": 31,
    "start_time": "2023-05-17T19:30:57.739Z"
   },
   {
    "duration": 253,
    "start_time": "2023-05-17T19:30:57.772Z"
   },
   {
    "duration": 7,
    "start_time": "2023-05-17T19:30:58.028Z"
   },
   {
    "duration": 5,
    "start_time": "2023-05-17T19:30:58.125Z"
   },
   {
    "duration": 13,
    "start_time": "2023-05-17T19:30:58.132Z"
   },
   {
    "duration": 3,
    "start_time": "2023-05-17T19:32:01.386Z"
   },
   {
    "duration": 1442,
    "start_time": "2023-05-17T19:32:12.707Z"
   },
   {
    "duration": 366,
    "start_time": "2023-05-17T19:32:14.151Z"
   },
   {
    "duration": 186,
    "start_time": "2023-05-17T19:32:14.519Z"
   },
   {
    "duration": 54,
    "start_time": "2023-05-17T19:32:14.707Z"
   },
   {
    "duration": 103,
    "start_time": "2023-05-17T19:32:14.764Z"
   },
   {
    "duration": 18,
    "start_time": "2023-05-17T19:32:14.869Z"
   },
   {
    "duration": 264,
    "start_time": "2023-05-17T19:32:14.888Z"
   },
   {
    "duration": 215,
    "start_time": "2023-05-17T19:32:15.155Z"
   },
   {
    "duration": 200,
    "start_time": "2023-05-17T19:32:15.371Z"
   },
   {
    "duration": 29,
    "start_time": "2023-05-17T19:32:15.574Z"
   },
   {
    "duration": 224,
    "start_time": "2023-05-17T19:32:15.605Z"
   },
   {
    "duration": 94,
    "start_time": "2023-05-17T19:32:15.832Z"
   },
   {
    "duration": 9,
    "start_time": "2023-05-17T19:32:15.929Z"
   },
   {
    "duration": 90,
    "start_time": "2023-05-17T19:32:15.941Z"
   },
   {
    "duration": 1247,
    "start_time": "2023-05-17T19:44:47.428Z"
   },
   {
    "duration": 1411,
    "start_time": "2023-05-17T19:48:23.344Z"
   },
   {
    "duration": 1351,
    "start_time": "2023-05-17T19:53:21.638Z"
   },
   {
    "duration": 1461,
    "start_time": "2023-05-17T19:53:56.237Z"
   },
   {
    "duration": 1364,
    "start_time": "2023-05-17T19:54:53.036Z"
   },
   {
    "duration": 1224,
    "start_time": "2023-05-17T19:57:36.004Z"
   },
   {
    "duration": 57,
    "start_time": "2023-05-18T05:44:27.380Z"
   },
   {
    "duration": 1566,
    "start_time": "2023-05-18T05:44:35.470Z"
   },
   {
    "duration": 1619,
    "start_time": "2023-05-18T05:44:37.039Z"
   },
   {
    "duration": 281,
    "start_time": "2023-05-18T05:44:38.661Z"
   },
   {
    "duration": 73,
    "start_time": "2023-05-18T05:44:38.944Z"
   },
   {
    "duration": 93,
    "start_time": "2023-05-18T05:44:39.019Z"
   },
   {
    "duration": 20,
    "start_time": "2023-05-18T05:44:39.114Z"
   },
   {
    "duration": 272,
    "start_time": "2023-05-18T05:44:39.137Z"
   },
   {
    "duration": 291,
    "start_time": "2023-05-18T05:44:39.412Z"
   },
   {
    "duration": 278,
    "start_time": "2023-05-18T05:44:39.706Z"
   },
   {
    "duration": 55,
    "start_time": "2023-05-18T05:44:39.988Z"
   },
   {
    "duration": 198,
    "start_time": "2023-05-18T05:44:40.063Z"
   },
   {
    "duration": 6,
    "start_time": "2023-05-18T05:44:40.264Z"
   },
   {
    "duration": 87,
    "start_time": "2023-05-18T05:44:40.272Z"
   },
   {
    "duration": 101,
    "start_time": "2023-05-18T05:44:40.361Z"
   },
   {
    "duration": 0,
    "start_time": "2023-05-18T05:44:40.465Z"
   },
   {
    "duration": 43,
    "start_time": "2023-05-18T05:44:59.919Z"
   },
   {
    "duration": 163,
    "start_time": "2023-05-18T05:45:13.584Z"
   },
   {
    "duration": 52,
    "start_time": "2023-05-18T05:49:16.076Z"
   },
   {
    "duration": 1521,
    "start_time": "2023-05-18T05:49:39.166Z"
   },
   {
    "duration": 4331,
    "start_time": "2023-05-18T05:51:27.783Z"
   },
   {
    "duration": 2746,
    "start_time": "2023-05-18T05:52:08.848Z"
   },
   {
    "duration": 1516,
    "start_time": "2023-05-18T05:54:55.393Z"
   },
   {
    "duration": 1287,
    "start_time": "2023-05-18T05:55:47.091Z"
   },
   {
    "duration": 1399,
    "start_time": "2023-05-18T05:56:07.351Z"
   },
   {
    "duration": 1416,
    "start_time": "2023-05-18T05:56:41.139Z"
   },
   {
    "duration": 17,
    "start_time": "2023-05-18T06:01:54.314Z"
   },
   {
    "duration": 24,
    "start_time": "2023-05-18T06:02:22.390Z"
   },
   {
    "duration": 2708,
    "start_time": "2023-05-18T06:03:02.312Z"
   },
   {
    "duration": 3047,
    "start_time": "2023-05-18T06:13:39.266Z"
   },
   {
    "duration": 1379,
    "start_time": "2023-05-18T06:13:57.480Z"
   },
   {
    "duration": 1360,
    "start_time": "2023-05-18T06:14:19.002Z"
   },
   {
    "duration": 1439,
    "start_time": "2023-05-18T06:14:35.344Z"
   },
   {
    "duration": 1335,
    "start_time": "2023-05-18T06:14:58.796Z"
   },
   {
    "duration": 1461,
    "start_time": "2023-05-18T06:16:13.392Z"
   },
   {
    "duration": 1251,
    "start_time": "2023-05-18T06:16:26.286Z"
   },
   {
    "duration": 1552,
    "start_time": "2023-05-18T06:16:53.075Z"
   },
   {
    "duration": 1347,
    "start_time": "2023-05-18T06:17:23.885Z"
   },
   {
    "duration": 1307,
    "start_time": "2023-05-18T06:23:47.699Z"
   },
   {
    "duration": 57,
    "start_time": "2023-05-18T06:24:05.344Z"
   },
   {
    "duration": 1392,
    "start_time": "2023-05-18T06:25:02.960Z"
   },
   {
    "duration": 1441,
    "start_time": "2023-05-18T06:25:13.248Z"
   },
   {
    "duration": 1581,
    "start_time": "2023-05-18T06:35:42.145Z"
   },
   {
    "duration": 1392,
    "start_time": "2023-05-18T06:42:01.027Z"
   },
   {
    "duration": 1356,
    "start_time": "2023-05-18T06:42:22.215Z"
   },
   {
    "duration": 1283,
    "start_time": "2023-05-18T06:42:47.872Z"
   },
   {
    "duration": 4008,
    "start_time": "2023-05-18T06:48:44.270Z"
   },
   {
    "duration": 4051,
    "start_time": "2023-05-18T06:50:15.657Z"
   },
   {
    "duration": 48,
    "start_time": "2023-05-18T06:55:14.164Z"
   },
   {
    "duration": 4,
    "start_time": "2023-05-18T06:55:48.094Z"
   },
   {
    "duration": 5,
    "start_time": "2023-05-18T06:56:09.286Z"
   },
   {
    "duration": 4,
    "start_time": "2023-05-18T06:56:15.113Z"
   },
   {
    "duration": 44,
    "start_time": "2023-05-18T06:57:08.714Z"
   },
   {
    "duration": 13,
    "start_time": "2023-05-18T06:57:29.501Z"
   },
   {
    "duration": 4,
    "start_time": "2023-05-18T06:59:26.379Z"
   },
   {
    "duration": 4,
    "start_time": "2023-05-18T06:59:31.039Z"
   },
   {
    "duration": 56,
    "start_time": "2023-05-18T07:00:06.294Z"
   },
   {
    "duration": 44,
    "start_time": "2023-05-18T07:00:14.353Z"
   },
   {
    "duration": 54,
    "start_time": "2023-05-18T07:00:28.378Z"
   },
   {
    "duration": 52,
    "start_time": "2023-05-18T07:00:34.317Z"
   },
   {
    "duration": 5,
    "start_time": "2023-05-18T07:01:01.192Z"
   },
   {
    "duration": 18,
    "start_time": "2023-05-18T07:01:05.516Z"
   },
   {
    "duration": 1300,
    "start_time": "2023-05-18T07:03:09.047Z"
   },
   {
    "duration": 56,
    "start_time": "2023-05-18T07:03:41.640Z"
   },
   {
    "duration": 4,
    "start_time": "2023-05-18T07:54:26.006Z"
   },
   {
    "duration": 1412,
    "start_time": "2023-05-18T07:54:38.358Z"
   },
   {
    "duration": 401,
    "start_time": "2023-05-18T07:54:39.773Z"
   },
   {
    "duration": 239,
    "start_time": "2023-05-18T07:54:40.177Z"
   },
   {
    "duration": 89,
    "start_time": "2023-05-18T07:54:40.419Z"
   },
   {
    "duration": 97,
    "start_time": "2023-05-18T07:54:40.511Z"
   },
   {
    "duration": 17,
    "start_time": "2023-05-18T07:54:40.610Z"
   },
   {
    "duration": 268,
    "start_time": "2023-05-18T07:54:40.628Z"
   },
   {
    "duration": 236,
    "start_time": "2023-05-18T07:54:40.899Z"
   },
   {
    "duration": 222,
    "start_time": "2023-05-18T07:54:41.138Z"
   },
   {
    "duration": 37,
    "start_time": "2023-05-18T07:54:41.362Z"
   },
   {
    "duration": 163,
    "start_time": "2023-05-18T07:54:41.402Z"
   },
   {
    "duration": 92,
    "start_time": "2023-05-18T07:54:41.566Z"
   },
   {
    "duration": 4,
    "start_time": "2023-05-18T07:54:41.661Z"
   },
   {
    "duration": 1593,
    "start_time": "2023-05-18T07:54:41.668Z"
   },
   {
    "duration": 6,
    "start_time": "2023-05-18T07:54:43.263Z"
   },
   {
    "duration": 138,
    "start_time": "2023-05-18T07:54:43.271Z"
   },
   {
    "duration": 1449,
    "start_time": "2023-05-18T07:59:11.872Z"
   },
   {
    "duration": 350,
    "start_time": "2023-05-18T07:59:13.323Z"
   },
   {
    "duration": 234,
    "start_time": "2023-05-18T07:59:13.675Z"
   },
   {
    "duration": 77,
    "start_time": "2023-05-18T07:59:13.911Z"
   },
   {
    "duration": 120,
    "start_time": "2023-05-18T07:59:13.991Z"
   },
   {
    "duration": 25,
    "start_time": "2023-05-18T07:59:14.113Z"
   },
   {
    "duration": 260,
    "start_time": "2023-05-18T07:59:14.141Z"
   },
   {
    "duration": 222,
    "start_time": "2023-05-18T07:59:14.404Z"
   },
   {
    "duration": 219,
    "start_time": "2023-05-18T07:59:14.628Z"
   },
   {
    "duration": 138,
    "start_time": "2023-05-18T07:59:14.857Z"
   },
   {
    "duration": 0,
    "start_time": "2023-05-18T07:59:14.998Z"
   },
   {
    "duration": 0,
    "start_time": "2023-05-18T07:59:14.999Z"
   },
   {
    "duration": 0,
    "start_time": "2023-05-18T07:59:15.000Z"
   },
   {
    "duration": 0,
    "start_time": "2023-05-18T07:59:15.002Z"
   },
   {
    "duration": 0,
    "start_time": "2023-05-18T07:59:15.003Z"
   },
   {
    "duration": 0,
    "start_time": "2023-05-18T07:59:15.004Z"
   },
   {
    "duration": 33,
    "start_time": "2023-05-18T07:59:38.874Z"
   },
   {
    "duration": 1400,
    "start_time": "2023-05-18T07:59:47.953Z"
   },
   {
    "duration": 356,
    "start_time": "2023-05-18T07:59:49.355Z"
   },
   {
    "duration": 216,
    "start_time": "2023-05-18T07:59:49.712Z"
   },
   {
    "duration": 56,
    "start_time": "2023-05-18T07:59:49.930Z"
   },
   {
    "duration": 80,
    "start_time": "2023-05-18T07:59:49.989Z"
   },
   {
    "duration": 15,
    "start_time": "2023-05-18T07:59:50.070Z"
   },
   {
    "duration": 227,
    "start_time": "2023-05-18T07:59:50.087Z"
   },
   {
    "duration": 213,
    "start_time": "2023-05-18T07:59:50.316Z"
   },
   {
    "duration": 244,
    "start_time": "2023-05-18T07:59:50.531Z"
   },
   {
    "duration": 37,
    "start_time": "2023-05-18T07:59:50.777Z"
   },
   {
    "duration": 156,
    "start_time": "2023-05-18T07:59:50.815Z"
   },
   {
    "duration": 6,
    "start_time": "2023-05-18T07:59:51.059Z"
   },
   {
    "duration": 95,
    "start_time": "2023-05-18T07:59:51.070Z"
   },
   {
    "duration": 1337,
    "start_time": "2023-05-18T07:59:51.168Z"
   },
   {
    "duration": 5,
    "start_time": "2023-05-18T07:59:52.507Z"
   },
   {
    "duration": 139,
    "start_time": "2023-05-18T07:59:52.513Z"
   },
   {
    "duration": 48,
    "start_time": "2023-05-18T08:05:13.581Z"
   },
   {
    "duration": 1301,
    "start_time": "2023-05-18T08:05:34.404Z"
   },
   {
    "duration": 1503,
    "start_time": "2023-05-18T08:06:38.201Z"
   },
   {
    "duration": 1288,
    "start_time": "2023-05-18T08:07:10.181Z"
   },
   {
    "duration": 1452,
    "start_time": "2023-05-18T08:11:19.577Z"
   },
   {
    "duration": 51,
    "start_time": "2023-05-18T08:23:20.696Z"
   },
   {
    "duration": 7,
    "start_time": "2023-05-18T08:23:31.005Z"
   },
   {
    "duration": 1686,
    "start_time": "2023-05-18T08:24:52.723Z"
   },
   {
    "duration": 73,
    "start_time": "2023-05-18T08:25:13.357Z"
   },
   {
    "duration": 80,
    "start_time": "2023-05-18T08:25:20.827Z"
   },
   {
    "duration": 53,
    "start_time": "2023-05-18T08:25:32.570Z"
   },
   {
    "duration": 4,
    "start_time": "2023-05-18T08:25:52.095Z"
   },
   {
    "duration": 23,
    "start_time": "2023-05-18T08:25:55.106Z"
   },
   {
    "duration": 6,
    "start_time": "2023-05-18T08:28:52.522Z"
   },
   {
    "duration": 5,
    "start_time": "2023-05-18T08:29:05.150Z"
   },
   {
    "duration": 7,
    "start_time": "2023-05-18T08:29:36.474Z"
   },
   {
    "duration": 20,
    "start_time": "2023-05-18T08:40:37.070Z"
   },
   {
    "duration": 5,
    "start_time": "2023-05-18T08:52:07.170Z"
   },
   {
    "duration": 20,
    "start_time": "2023-05-18T08:52:14.987Z"
   },
   {
    "duration": 5,
    "start_time": "2023-05-18T09:02:12.842Z"
   },
   {
    "duration": 1405,
    "start_time": "2023-05-18T09:02:17.576Z"
   },
   {
    "duration": 7,
    "start_time": "2023-05-18T09:22:09.734Z"
   },
   {
    "duration": 1323,
    "start_time": "2023-05-18T09:22:30.602Z"
   },
   {
    "duration": 350,
    "start_time": "2023-05-18T09:22:31.927Z"
   },
   {
    "duration": 189,
    "start_time": "2023-05-18T09:22:32.279Z"
   },
   {
    "duration": 45,
    "start_time": "2023-05-18T09:22:32.470Z"
   },
   {
    "duration": 84,
    "start_time": "2023-05-18T09:22:32.517Z"
   },
   {
    "duration": 14,
    "start_time": "2023-05-18T09:22:32.603Z"
   },
   {
    "duration": 243,
    "start_time": "2023-05-18T09:22:32.618Z"
   },
   {
    "duration": 209,
    "start_time": "2023-05-18T09:22:32.863Z"
   },
   {
    "duration": 210,
    "start_time": "2023-05-18T09:22:33.074Z"
   },
   {
    "duration": 33,
    "start_time": "2023-05-18T09:22:33.285Z"
   },
   {
    "duration": 140,
    "start_time": "2023-05-18T09:22:33.320Z"
   },
   {
    "duration": 99,
    "start_time": "2023-05-18T09:22:33.461Z"
   },
   {
    "duration": 96,
    "start_time": "2023-05-18T09:22:33.562Z"
   },
   {
    "duration": 35,
    "start_time": "2023-05-18T09:22:33.661Z"
   },
   {
    "duration": 1519,
    "start_time": "2023-05-18T09:22:33.699Z"
   },
   {
    "duration": 1544,
    "start_time": "2023-05-19T05:28:16.892Z"
   },
   {
    "duration": 810,
    "start_time": "2023-05-19T05:28:18.438Z"
   },
   {
    "duration": 212,
    "start_time": "2023-05-19T05:28:19.249Z"
   },
   {
    "duration": 56,
    "start_time": "2023-05-19T05:28:19.462Z"
   },
   {
    "duration": 76,
    "start_time": "2023-05-19T05:28:19.521Z"
   },
   {
    "duration": 25,
    "start_time": "2023-05-19T05:28:19.600Z"
   },
   {
    "duration": 312,
    "start_time": "2023-05-19T05:28:19.626Z"
   },
   {
    "duration": 206,
    "start_time": "2023-05-19T05:28:19.939Z"
   },
   {
    "duration": 212,
    "start_time": "2023-05-19T05:28:20.147Z"
   },
   {
    "duration": 40,
    "start_time": "2023-05-19T05:28:20.360Z"
   },
   {
    "duration": 306,
    "start_time": "2023-05-19T05:28:20.403Z"
   },
   {
    "duration": 89,
    "start_time": "2023-05-19T05:28:20.712Z"
   },
   {
    "duration": 94,
    "start_time": "2023-05-19T05:28:20.804Z"
   },
   {
    "duration": 94,
    "start_time": "2023-05-19T05:28:20.901Z"
   },
   {
    "duration": 1387,
    "start_time": "2023-05-19T05:28:20.996Z"
   },
   {
    "duration": 114,
    "start_time": "2023-05-19T05:39:51.136Z"
   },
   {
    "duration": 74,
    "start_time": "2023-05-19T05:40:06.131Z"
   },
   {
    "duration": 104,
    "start_time": "2023-05-19T05:40:19.737Z"
   },
   {
    "duration": 11,
    "start_time": "2023-05-19T05:40:58.462Z"
   },
   {
    "duration": 321,
    "start_time": "2023-05-19T05:41:10.411Z"
   },
   {
    "duration": 328,
    "start_time": "2023-05-19T05:41:34.696Z"
   },
   {
    "duration": 293,
    "start_time": "2023-05-19T05:43:11.146Z"
   },
   {
    "duration": 123,
    "start_time": "2023-05-19T05:44:33.686Z"
   },
   {
    "duration": 10,
    "start_time": "2023-05-19T05:45:22.658Z"
   },
   {
    "duration": 9,
    "start_time": "2023-05-19T05:45:27.564Z"
   },
   {
    "duration": 75,
    "start_time": "2023-05-19T05:45:53.325Z"
   },
   {
    "duration": 11,
    "start_time": "2023-05-19T05:46:09.624Z"
   },
   {
    "duration": 10,
    "start_time": "2023-05-19T05:47:54.597Z"
   },
   {
    "duration": 12,
    "start_time": "2023-05-19T05:50:08.306Z"
   },
   {
    "duration": 11,
    "start_time": "2023-05-19T05:51:13.909Z"
   },
   {
    "duration": 80,
    "start_time": "2023-05-19T05:52:09.032Z"
   },
   {
    "duration": 71,
    "start_time": "2023-05-19T05:52:15.944Z"
   },
   {
    "duration": 10,
    "start_time": "2023-05-19T05:52:31.085Z"
   },
   {
    "duration": 11,
    "start_time": "2023-05-19T05:52:57.947Z"
   },
   {
    "duration": 95,
    "start_time": "2023-05-19T05:53:10.559Z"
   },
   {
    "duration": 115,
    "start_time": "2023-05-19T05:54:16.100Z"
   },
   {
    "duration": 83,
    "start_time": "2023-05-19T06:02:31.188Z"
   },
   {
    "duration": 6,
    "start_time": "2023-05-19T06:03:09.465Z"
   },
   {
    "duration": 1369,
    "start_time": "2023-05-19T06:03:17.476Z"
   },
   {
    "duration": 370,
    "start_time": "2023-05-19T06:03:18.847Z"
   },
   {
    "duration": 194,
    "start_time": "2023-05-19T06:03:19.219Z"
   },
   {
    "duration": 42,
    "start_time": "2023-05-19T06:03:19.415Z"
   },
   {
    "duration": 80,
    "start_time": "2023-05-19T06:03:19.460Z"
   },
   {
    "duration": 15,
    "start_time": "2023-05-19T06:03:19.542Z"
   },
   {
    "duration": 207,
    "start_time": "2023-05-19T06:03:19.559Z"
   },
   {
    "duration": 208,
    "start_time": "2023-05-19T06:03:19.767Z"
   },
   {
    "duration": 207,
    "start_time": "2023-05-19T06:03:19.976Z"
   },
   {
    "duration": 40,
    "start_time": "2023-05-19T06:03:20.184Z"
   },
   {
    "duration": 180,
    "start_time": "2023-05-19T06:03:20.226Z"
   },
   {
    "duration": 192,
    "start_time": "2023-05-19T06:03:20.407Z"
   },
   {
    "duration": 7,
    "start_time": "2023-05-19T06:03:20.601Z"
   },
   {
    "duration": 13,
    "start_time": "2023-05-19T06:03:20.610Z"
   },
   {
    "duration": 1287,
    "start_time": "2023-05-19T06:03:20.625Z"
   },
   {
    "duration": 130,
    "start_time": "2023-05-19T06:04:13.169Z"
   },
   {
    "duration": 6,
    "start_time": "2023-05-19T06:04:41.677Z"
   },
   {
    "duration": 1536,
    "start_time": "2023-05-19T06:04:47.792Z"
   },
   {
    "duration": 434,
    "start_time": "2023-05-19T06:04:49.330Z"
   },
   {
    "duration": 210,
    "start_time": "2023-05-19T06:04:49.766Z"
   },
   {
    "duration": 60,
    "start_time": "2023-05-19T06:04:49.978Z"
   },
   {
    "duration": 96,
    "start_time": "2023-05-19T06:04:50.039Z"
   },
   {
    "duration": 17,
    "start_time": "2023-05-19T06:04:50.137Z"
   },
   {
    "duration": 242,
    "start_time": "2023-05-19T06:04:50.156Z"
   },
   {
    "duration": 222,
    "start_time": "2023-05-19T06:04:50.400Z"
   },
   {
    "duration": 210,
    "start_time": "2023-05-19T06:04:50.624Z"
   },
   {
    "duration": 34,
    "start_time": "2023-05-19T06:04:50.836Z"
   },
   {
    "duration": 331,
    "start_time": "2023-05-19T06:04:50.871Z"
   },
   {
    "duration": 97,
    "start_time": "2023-05-19T06:04:51.204Z"
   },
   {
    "duration": 95,
    "start_time": "2023-05-19T06:04:51.303Z"
   },
   {
    "duration": 19,
    "start_time": "2023-05-19T06:04:51.401Z"
   },
   {
    "duration": 1527,
    "start_time": "2023-05-19T06:04:51.424Z"
   },
   {
    "duration": 1325,
    "start_time": "2023-05-19T06:05:13.654Z"
   },
   {
    "duration": 389,
    "start_time": "2023-05-19T06:05:14.981Z"
   },
   {
    "duration": 203,
    "start_time": "2023-05-19T06:05:15.371Z"
   },
   {
    "duration": 44,
    "start_time": "2023-05-19T06:05:15.576Z"
   },
   {
    "duration": 78,
    "start_time": "2023-05-19T06:05:15.622Z"
   },
   {
    "duration": 16,
    "start_time": "2023-05-19T06:05:15.702Z"
   },
   {
    "duration": 220,
    "start_time": "2023-05-19T06:05:15.720Z"
   },
   {
    "duration": 192,
    "start_time": "2023-05-19T06:05:15.941Z"
   },
   {
    "duration": 211,
    "start_time": "2023-05-19T06:05:16.135Z"
   },
   {
    "duration": 32,
    "start_time": "2023-05-19T06:05:16.347Z"
   },
   {
    "duration": 317,
    "start_time": "2023-05-19T06:05:16.381Z"
   },
   {
    "duration": 5,
    "start_time": "2023-05-19T06:05:16.701Z"
   },
   {
    "duration": 23,
    "start_time": "2023-05-19T06:05:16.798Z"
   },
   {
    "duration": 70,
    "start_time": "2023-05-19T06:05:16.825Z"
   },
   {
    "duration": 0,
    "start_time": "2023-05-19T06:05:16.897Z"
   },
   {
    "duration": 1360,
    "start_time": "2023-05-19T06:06:40.642Z"
   },
   {
    "duration": 415,
    "start_time": "2023-05-19T06:06:42.004Z"
   },
   {
    "duration": 211,
    "start_time": "2023-05-19T06:06:42.420Z"
   },
   {
    "duration": 46,
    "start_time": "2023-05-19T06:06:42.634Z"
   },
   {
    "duration": 72,
    "start_time": "2023-05-19T06:06:42.698Z"
   },
   {
    "duration": 29,
    "start_time": "2023-05-19T06:06:42.772Z"
   },
   {
    "duration": 231,
    "start_time": "2023-05-19T06:06:42.803Z"
   },
   {
    "duration": 212,
    "start_time": "2023-05-19T06:06:43.035Z"
   },
   {
    "duration": 217,
    "start_time": "2023-05-19T06:06:43.249Z"
   },
   {
    "duration": 40,
    "start_time": "2023-05-19T06:06:43.469Z"
   },
   {
    "duration": 289,
    "start_time": "2023-05-19T06:06:43.510Z"
   },
   {
    "duration": 95,
    "start_time": "2023-05-19T06:06:43.801Z"
   },
   {
    "duration": 5,
    "start_time": "2023-05-19T06:06:43.898Z"
   },
   {
    "duration": 9,
    "start_time": "2023-05-19T06:06:43.905Z"
   },
   {
    "duration": 1344,
    "start_time": "2023-05-19T06:06:43.915Z"
   },
   {
    "duration": 1493,
    "start_time": "2023-05-19T06:08:38.615Z"
   },
   {
    "duration": 393,
    "start_time": "2023-05-19T06:08:40.110Z"
   },
   {
    "duration": 193,
    "start_time": "2023-05-19T06:08:40.505Z"
   },
   {
    "duration": 43,
    "start_time": "2023-05-19T06:08:40.699Z"
   },
   {
    "duration": 79,
    "start_time": "2023-05-19T06:08:40.744Z"
   },
   {
    "duration": 15,
    "start_time": "2023-05-19T06:08:40.824Z"
   },
   {
    "duration": 231,
    "start_time": "2023-05-19T06:08:40.841Z"
   },
   {
    "duration": 210,
    "start_time": "2023-05-19T06:08:41.074Z"
   },
   {
    "duration": 211,
    "start_time": "2023-05-19T06:08:41.286Z"
   },
   {
    "duration": 31,
    "start_time": "2023-05-19T06:08:41.499Z"
   },
   {
    "duration": 270,
    "start_time": "2023-05-19T06:08:41.531Z"
   },
   {
    "duration": 94,
    "start_time": "2023-05-19T06:08:41.804Z"
   },
   {
    "duration": 5,
    "start_time": "2023-05-19T06:08:41.900Z"
   },
   {
    "duration": 91,
    "start_time": "2023-05-19T06:08:41.908Z"
   },
   {
    "duration": 1314,
    "start_time": "2023-05-19T06:08:42.001Z"
   },
   {
    "duration": 129,
    "start_time": "2023-05-19T06:17:05.213Z"
   },
   {
    "duration": 16,
    "start_time": "2023-05-19T06:17:24.764Z"
   },
   {
    "duration": 11,
    "start_time": "2023-05-19T06:17:40.813Z"
   },
   {
    "duration": 11,
    "start_time": "2023-05-19T06:20:32.186Z"
   },
   {
    "duration": 18,
    "start_time": "2023-05-19T06:20:44.351Z"
   },
   {
    "duration": 18,
    "start_time": "2023-05-19T06:20:59.053Z"
   },
   {
    "duration": 120,
    "start_time": "2023-05-19T06:21:34.105Z"
   },
   {
    "duration": 1528,
    "start_time": "2023-05-19T06:23:07.837Z"
   },
   {
    "duration": 419,
    "start_time": "2023-05-19T06:23:09.367Z"
   },
   {
    "duration": 232,
    "start_time": "2023-05-19T06:23:09.788Z"
   },
   {
    "duration": 49,
    "start_time": "2023-05-19T06:23:10.022Z"
   },
   {
    "duration": 77,
    "start_time": "2023-05-19T06:23:10.099Z"
   },
   {
    "duration": 30,
    "start_time": "2023-05-19T06:23:10.177Z"
   },
   {
    "duration": 242,
    "start_time": "2023-05-19T06:23:10.209Z"
   },
   {
    "duration": 239,
    "start_time": "2023-05-19T06:23:10.453Z"
   },
   {
    "duration": 213,
    "start_time": "2023-05-19T06:23:10.697Z"
   },
   {
    "duration": 36,
    "start_time": "2023-05-19T06:23:10.912Z"
   },
   {
    "duration": 353,
    "start_time": "2023-05-19T06:23:10.950Z"
   },
   {
    "duration": 94,
    "start_time": "2023-05-19T06:23:11.305Z"
   },
   {
    "duration": 16,
    "start_time": "2023-05-19T06:23:11.402Z"
   },
   {
    "duration": 27,
    "start_time": "2023-05-19T06:23:11.422Z"
   },
   {
    "duration": 1438,
    "start_time": "2023-05-19T06:23:11.497Z"
   },
   {
    "duration": 5,
    "start_time": "2023-05-19T06:24:20.045Z"
   },
   {
    "duration": 1331,
    "start_time": "2023-05-19T06:24:28.058Z"
   },
   {
    "duration": 362,
    "start_time": "2023-05-19T06:24:29.391Z"
   },
   {
    "duration": 193,
    "start_time": "2023-05-19T06:24:29.755Z"
   },
   {
    "duration": 48,
    "start_time": "2023-05-19T06:24:29.949Z"
   },
   {
    "duration": 64,
    "start_time": "2023-05-19T06:24:30.000Z"
   },
   {
    "duration": 15,
    "start_time": "2023-05-19T06:24:30.066Z"
   },
   {
    "duration": 209,
    "start_time": "2023-05-19T06:24:30.097Z"
   },
   {
    "duration": 185,
    "start_time": "2023-05-19T06:24:30.307Z"
   },
   {
    "duration": 181,
    "start_time": "2023-05-19T06:24:30.497Z"
   },
   {
    "duration": 39,
    "start_time": "2023-05-19T06:24:30.680Z"
   },
   {
    "duration": 290,
    "start_time": "2023-05-19T06:24:30.721Z"
   },
   {
    "duration": 89,
    "start_time": "2023-05-19T06:24:31.013Z"
   },
   {
    "duration": 93,
    "start_time": "2023-05-19T06:24:31.105Z"
   },
   {
    "duration": 51,
    "start_time": "2023-05-19T06:24:31.201Z"
   },
   {
    "duration": 1325,
    "start_time": "2023-05-19T06:24:31.254Z"
   },
   {
    "duration": 1426,
    "start_time": "2023-05-19T06:25:00.950Z"
   },
   {
    "duration": 367,
    "start_time": "2023-05-19T06:25:02.378Z"
   },
   {
    "duration": 186,
    "start_time": "2023-05-19T06:25:02.747Z"
   },
   {
    "duration": 41,
    "start_time": "2023-05-19T06:25:02.935Z"
   },
   {
    "duration": 78,
    "start_time": "2023-05-19T06:25:02.978Z"
   },
   {
    "duration": 17,
    "start_time": "2023-05-19T06:25:03.057Z"
   },
   {
    "duration": 230,
    "start_time": "2023-05-19T06:25:03.076Z"
   },
   {
    "duration": 200,
    "start_time": "2023-05-19T06:25:03.307Z"
   },
   {
    "duration": 221,
    "start_time": "2023-05-19T06:25:03.508Z"
   },
   {
    "duration": 39,
    "start_time": "2023-05-19T06:25:03.733Z"
   },
   {
    "duration": 331,
    "start_time": "2023-05-19T06:25:03.774Z"
   },
   {
    "duration": 112,
    "start_time": "2023-05-19T06:25:04.107Z"
   },
   {
    "duration": 78,
    "start_time": "2023-05-19T06:25:04.221Z"
   },
   {
    "duration": 19,
    "start_time": "2023-05-19T06:25:04.301Z"
   },
   {
    "duration": 1461,
    "start_time": "2023-05-19T06:25:04.322Z"
   },
   {
    "duration": 1374,
    "start_time": "2023-05-19T06:26:47.566Z"
   },
   {
    "duration": 367,
    "start_time": "2023-05-19T06:26:48.942Z"
   },
   {
    "duration": 192,
    "start_time": "2023-05-19T06:26:49.311Z"
   },
   {
    "duration": 41,
    "start_time": "2023-05-19T06:26:49.506Z"
   },
   {
    "duration": 79,
    "start_time": "2023-05-19T06:26:49.549Z"
   },
   {
    "duration": 18,
    "start_time": "2023-05-19T06:26:49.630Z"
   },
   {
    "duration": 219,
    "start_time": "2023-05-19T06:26:49.650Z"
   },
   {
    "duration": 191,
    "start_time": "2023-05-19T06:26:49.871Z"
   },
   {
    "duration": 188,
    "start_time": "2023-05-19T06:26:50.063Z"
   },
   {
    "duration": 32,
    "start_time": "2023-05-19T06:26:50.254Z"
   },
   {
    "duration": 301,
    "start_time": "2023-05-19T06:26:50.298Z"
   },
   {
    "duration": 95,
    "start_time": "2023-05-19T06:26:50.602Z"
   },
   {
    "duration": 9,
    "start_time": "2023-05-19T06:26:50.699Z"
   },
   {
    "duration": 28,
    "start_time": "2023-05-19T06:26:50.709Z"
   },
   {
    "duration": 1315,
    "start_time": "2023-05-19T06:26:50.738Z"
   },
   {
    "duration": 1318,
    "start_time": "2023-05-19T06:27:35.328Z"
   },
   {
    "duration": 1429,
    "start_time": "2023-05-19T06:27:58.900Z"
   },
   {
    "duration": 92,
    "start_time": "2023-05-19T06:36:22.624Z"
   },
   {
    "duration": 1288,
    "start_time": "2023-05-19T06:37:18.747Z"
   },
   {
    "duration": 356,
    "start_time": "2023-05-19T06:37:20.037Z"
   },
   {
    "duration": 168,
    "start_time": "2023-05-19T06:37:20.395Z"
   },
   {
    "duration": 45,
    "start_time": "2023-05-19T06:37:20.565Z"
   },
   {
    "duration": 63,
    "start_time": "2023-05-19T06:37:20.611Z"
   },
   {
    "duration": 25,
    "start_time": "2023-05-19T06:37:20.676Z"
   },
   {
    "duration": 209,
    "start_time": "2023-05-19T06:37:20.702Z"
   },
   {
    "duration": 187,
    "start_time": "2023-05-19T06:37:20.912Z"
   },
   {
    "duration": 182,
    "start_time": "2023-05-19T06:37:21.100Z"
   },
   {
    "duration": 40,
    "start_time": "2023-05-19T06:37:21.284Z"
   },
   {
    "duration": 179,
    "start_time": "2023-05-19T06:37:21.326Z"
   },
   {
    "duration": 96,
    "start_time": "2023-05-19T06:37:21.508Z"
   },
   {
    "duration": 101,
    "start_time": "2023-05-19T06:37:21.607Z"
   },
   {
    "duration": 11,
    "start_time": "2023-05-19T06:37:21.710Z"
   },
   {
    "duration": 1311,
    "start_time": "2023-05-19T06:37:21.723Z"
   },
   {
    "duration": 6,
    "start_time": "2023-05-19T06:37:58.113Z"
   },
   {
    "duration": 1346,
    "start_time": "2023-05-19T06:38:04.747Z"
   },
   {
    "duration": 377,
    "start_time": "2023-05-19T06:38:06.095Z"
   },
   {
    "duration": 232,
    "start_time": "2023-05-19T06:38:06.474Z"
   },
   {
    "duration": 59,
    "start_time": "2023-05-19T06:38:06.708Z"
   },
   {
    "duration": 92,
    "start_time": "2023-05-19T06:38:06.769Z"
   },
   {
    "duration": 17,
    "start_time": "2023-05-19T06:38:06.862Z"
   },
   {
    "duration": 231,
    "start_time": "2023-05-19T06:38:06.880Z"
   },
   {
    "duration": 209,
    "start_time": "2023-05-19T06:38:07.112Z"
   },
   {
    "duration": 206,
    "start_time": "2023-05-19T06:38:07.323Z"
   },
   {
    "duration": 31,
    "start_time": "2023-05-19T06:38:07.530Z"
   },
   {
    "duration": 238,
    "start_time": "2023-05-19T06:38:07.563Z"
   },
   {
    "duration": 101,
    "start_time": "2023-05-19T06:38:07.805Z"
   },
   {
    "duration": 101,
    "start_time": "2023-05-19T06:38:07.912Z"
   },
   {
    "duration": 26,
    "start_time": "2023-05-19T06:38:08.015Z"
   },
   {
    "duration": 1385,
    "start_time": "2023-05-19T06:38:08.042Z"
   },
   {
    "duration": 5,
    "start_time": "2023-05-19T06:40:30.333Z"
   },
   {
    "duration": 1360,
    "start_time": "2023-05-19T06:40:34.525Z"
   },
   {
    "duration": 1564,
    "start_time": "2023-05-19T08:00:46.709Z"
   },
   {
    "duration": 449,
    "start_time": "2023-05-19T08:00:48.275Z"
   },
   {
    "duration": 228,
    "start_time": "2023-05-19T08:00:48.725Z"
   },
   {
    "duration": 270,
    "start_time": "2023-05-19T08:00:48.956Z"
   },
   {
    "duration": 239,
    "start_time": "2023-05-19T08:00:49.228Z"
   },
   {
    "duration": 233,
    "start_time": "2023-05-19T08:00:49.469Z"
   },
   {
    "duration": 54,
    "start_time": "2023-05-19T08:00:49.704Z"
   },
   {
    "duration": 99,
    "start_time": "2023-05-19T08:00:49.760Z"
   },
   {
    "duration": 17,
    "start_time": "2023-05-19T08:00:49.861Z"
   },
   {
    "duration": 50,
    "start_time": "2023-05-19T08:00:49.881Z"
   },
   {
    "duration": 271,
    "start_time": "2023-05-19T08:00:49.933Z"
   },
   {
    "duration": 93,
    "start_time": "2023-05-19T08:00:50.206Z"
   },
   {
    "duration": 4,
    "start_time": "2023-05-19T08:00:50.301Z"
   },
   {
    "duration": 102,
    "start_time": "2023-05-19T08:00:50.307Z"
   },
   {
    "duration": 1437,
    "start_time": "2023-05-19T08:01:52.539Z"
   },
   {
    "duration": 1495,
    "start_time": "2023-05-19T08:02:06.841Z"
   },
   {
    "duration": 411,
    "start_time": "2023-05-19T08:02:08.338Z"
   },
   {
    "duration": 237,
    "start_time": "2023-05-19T08:02:08.750Z"
   },
   {
    "duration": 263,
    "start_time": "2023-05-19T08:02:08.996Z"
   },
   {
    "duration": 226,
    "start_time": "2023-05-19T08:02:09.261Z"
   },
   {
    "duration": 221,
    "start_time": "2023-05-19T08:02:09.489Z"
   },
   {
    "duration": 49,
    "start_time": "2023-05-19T08:02:09.712Z"
   },
   {
    "duration": 97,
    "start_time": "2023-05-19T08:02:09.763Z"
   },
   {
    "duration": 18,
    "start_time": "2023-05-19T08:02:09.862Z"
   },
   {
    "duration": 46,
    "start_time": "2023-05-19T08:02:09.883Z"
   },
   {
    "duration": 269,
    "start_time": "2023-05-19T08:02:09.931Z"
   },
   {
    "duration": 95,
    "start_time": "2023-05-19T08:02:10.203Z"
   },
   {
    "duration": 3,
    "start_time": "2023-05-19T08:02:10.300Z"
   },
   {
    "duration": 12,
    "start_time": "2023-05-19T08:02:10.305Z"
   },
   {
    "duration": 1444,
    "start_time": "2023-05-19T08:02:10.319Z"
   },
   {
    "duration": 1473,
    "start_time": "2023-05-19T08:02:36.205Z"
   },
   {
    "duration": 1456,
    "start_time": "2023-05-19T08:03:00.527Z"
   },
   {
    "duration": 1532,
    "start_time": "2023-05-19T08:03:22.257Z"
   },
   {
    "duration": 415,
    "start_time": "2023-05-19T08:03:23.791Z"
   },
   {
    "duration": 214,
    "start_time": "2023-05-19T08:03:24.208Z"
   },
   {
    "duration": 262,
    "start_time": "2023-05-19T08:03:24.425Z"
   },
   {
    "duration": 221,
    "start_time": "2023-05-19T08:03:24.689Z"
   },
   {
    "duration": 219,
    "start_time": "2023-05-19T08:03:24.912Z"
   },
   {
    "duration": 48,
    "start_time": "2023-05-19T08:03:25.133Z"
   },
   {
    "duration": 89,
    "start_time": "2023-05-19T08:03:25.182Z"
   },
   {
    "duration": 29,
    "start_time": "2023-05-19T08:03:25.273Z"
   },
   {
    "duration": 48,
    "start_time": "2023-05-19T08:03:25.305Z"
   },
   {
    "duration": 156,
    "start_time": "2023-05-19T08:03:25.355Z"
   },
   {
    "duration": 6,
    "start_time": "2023-05-19T08:03:25.600Z"
   },
   {
    "duration": 15,
    "start_time": "2023-05-19T08:03:25.697Z"
   },
   {
    "duration": 17,
    "start_time": "2023-05-19T08:03:25.714Z"
   },
   {
    "duration": 1497,
    "start_time": "2023-05-19T08:03:25.733Z"
   },
   {
    "duration": 1394,
    "start_time": "2023-05-19T08:03:27.232Z"
   },
   {
    "duration": 1393,
    "start_time": "2023-05-19T08:03:28.628Z"
   },
   {
    "duration": 1536,
    "start_time": "2023-05-19T08:03:59.239Z"
   },
   {
    "duration": 434,
    "start_time": "2023-05-19T08:04:00.777Z"
   },
   {
    "duration": 248,
    "start_time": "2023-05-19T08:04:01.213Z"
   },
   {
    "duration": 270,
    "start_time": "2023-05-19T08:04:01.464Z"
   },
   {
    "duration": 295,
    "start_time": "2023-05-19T08:04:01.738Z"
   },
   {
    "duration": 234,
    "start_time": "2023-05-19T08:04:02.035Z"
   },
   {
    "duration": 64,
    "start_time": "2023-05-19T08:04:02.271Z"
   },
   {
    "duration": 101,
    "start_time": "2023-05-19T08:04:02.337Z"
   },
   {
    "duration": 16,
    "start_time": "2023-05-19T08:04:02.440Z"
   },
   {
    "duration": 54,
    "start_time": "2023-05-19T08:04:02.458Z"
   },
   {
    "duration": 286,
    "start_time": "2023-05-19T08:04:02.514Z"
   },
   {
    "duration": 108,
    "start_time": "2023-05-19T08:04:02.802Z"
   },
   {
    "duration": 30,
    "start_time": "2023-05-19T08:04:02.913Z"
   },
   {
    "duration": 24,
    "start_time": "2023-05-19T08:04:02.947Z"
   },
   {
    "duration": 1474,
    "start_time": "2023-05-19T08:04:02.973Z"
   },
   {
    "duration": 1470,
    "start_time": "2023-05-19T08:04:04.449Z"
   },
   {
    "duration": 1467,
    "start_time": "2023-05-19T08:04:05.921Z"
   },
   {
    "duration": 1457,
    "start_time": "2023-05-19T08:06:43.399Z"
   },
   {
    "duration": 1479,
    "start_time": "2023-05-19T08:07:16.776Z"
   },
   {
    "duration": 1438,
    "start_time": "2023-05-19T08:07:37.741Z"
   },
   {
    "duration": 142,
    "start_time": "2023-05-19T08:14:37.958Z"
   },
   {
    "duration": 37,
    "start_time": "2023-05-19T08:15:17.037Z"
   },
   {
    "duration": 30,
    "start_time": "2023-05-19T08:15:25.812Z"
   },
   {
    "duration": 1524,
    "start_time": "2023-05-19T08:15:34.439Z"
   },
   {
    "duration": 420,
    "start_time": "2023-05-19T08:15:35.965Z"
   },
   {
    "duration": 250,
    "start_time": "2023-05-19T08:15:36.386Z"
   },
   {
    "duration": 318,
    "start_time": "2023-05-19T08:15:36.639Z"
   },
   {
    "duration": 269,
    "start_time": "2023-05-19T08:15:36.959Z"
   },
   {
    "duration": 230,
    "start_time": "2023-05-19T08:15:37.230Z"
   },
   {
    "duration": 52,
    "start_time": "2023-05-19T08:15:37.462Z"
   },
   {
    "duration": 83,
    "start_time": "2023-05-19T08:15:37.516Z"
   },
   {
    "duration": 17,
    "start_time": "2023-05-19T08:15:37.600Z"
   },
   {
    "duration": 41,
    "start_time": "2023-05-19T08:15:37.620Z"
   },
   {
    "duration": 242,
    "start_time": "2023-05-19T08:15:37.663Z"
   },
   {
    "duration": 92,
    "start_time": "2023-05-19T08:15:37.907Z"
   },
   {
    "duration": 95,
    "start_time": "2023-05-19T08:15:38.003Z"
   },
   {
    "duration": 11,
    "start_time": "2023-05-19T08:15:38.100Z"
   },
   {
    "duration": 1489,
    "start_time": "2023-05-19T08:15:38.112Z"
   },
   {
    "duration": 1426,
    "start_time": "2023-05-19T08:15:39.603Z"
   },
   {
    "duration": 1405,
    "start_time": "2023-05-19T08:15:41.031Z"
   },
   {
    "duration": 38,
    "start_time": "2023-05-19T08:16:38.813Z"
   },
   {
    "duration": 38,
    "start_time": "2023-05-19T08:17:08.195Z"
   },
   {
    "duration": 39,
    "start_time": "2023-05-19T08:17:30.368Z"
   },
   {
    "duration": 157,
    "start_time": "2023-05-19T08:17:44.758Z"
   },
   {
    "duration": 43,
    "start_time": "2023-05-19T08:18:35.848Z"
   },
   {
    "duration": 32,
    "start_time": "2023-05-19T08:18:59.096Z"
   },
   {
    "duration": 4,
    "start_time": "2023-05-19T08:28:09.285Z"
   },
   {
    "duration": 1512,
    "start_time": "2023-05-19T08:28:23.434Z"
   },
   {
    "duration": 418,
    "start_time": "2023-05-19T08:28:24.948Z"
   },
   {
    "duration": 230,
    "start_time": "2023-05-19T08:28:25.368Z"
   },
   {
    "duration": 245,
    "start_time": "2023-05-19T08:28:25.600Z"
   },
   {
    "duration": 224,
    "start_time": "2023-05-19T08:28:25.848Z"
   },
   {
    "duration": 227,
    "start_time": "2023-05-19T08:28:26.075Z"
   },
   {
    "duration": 47,
    "start_time": "2023-05-19T08:28:26.304Z"
   },
   {
    "duration": 105,
    "start_time": "2023-05-19T08:28:26.353Z"
   },
   {
    "duration": 17,
    "start_time": "2023-05-19T08:28:26.460Z"
   },
   {
    "duration": 52,
    "start_time": "2023-05-19T08:28:26.479Z"
   },
   {
    "duration": 269,
    "start_time": "2023-05-19T08:28:26.533Z"
   },
   {
    "duration": 93,
    "start_time": "2023-05-19T08:28:26.806Z"
   },
   {
    "duration": 105,
    "start_time": "2023-05-19T08:28:26.901Z"
   },
   {
    "duration": 32,
    "start_time": "2023-05-19T08:28:27.010Z"
   },
   {
    "duration": 1445,
    "start_time": "2023-05-19T08:28:27.044Z"
   },
   {
    "duration": 1427,
    "start_time": "2023-05-19T08:28:28.491Z"
   },
   {
    "duration": 1425,
    "start_time": "2023-05-19T08:28:29.919Z"
   },
   {
    "duration": 1506,
    "start_time": "2023-05-19T08:37:53.635Z"
   },
   {
    "duration": 402,
    "start_time": "2023-05-19T08:37:55.143Z"
   },
   {
    "duration": 203,
    "start_time": "2023-05-19T08:37:55.547Z"
   },
   {
    "duration": 228,
    "start_time": "2023-05-19T08:37:55.751Z"
   },
   {
    "duration": 193,
    "start_time": "2023-05-19T08:37:55.981Z"
   },
   {
    "duration": 204,
    "start_time": "2023-05-19T08:37:56.175Z"
   },
   {
    "duration": 58,
    "start_time": "2023-05-19T08:37:56.381Z"
   },
   {
    "duration": 79,
    "start_time": "2023-05-19T08:37:56.441Z"
   },
   {
    "duration": 16,
    "start_time": "2023-05-19T08:37:56.522Z"
   },
   {
    "duration": 45,
    "start_time": "2023-05-19T08:37:56.542Z"
   },
   {
    "duration": 301,
    "start_time": "2023-05-19T08:37:56.598Z"
   },
   {
    "duration": 6,
    "start_time": "2023-05-19T08:37:56.901Z"
   },
   {
    "duration": 9,
    "start_time": "2023-05-19T08:37:56.998Z"
   },
   {
    "duration": 45,
    "start_time": "2023-05-19T08:37:57.008Z"
   },
   {
    "duration": 1382,
    "start_time": "2023-05-19T08:37:57.055Z"
   },
   {
    "duration": 1323,
    "start_time": "2023-05-19T08:37:58.438Z"
   },
   {
    "duration": 1435,
    "start_time": "2023-05-19T08:37:59.762Z"
   },
   {
    "duration": 1574,
    "start_time": "2023-05-19T11:28:57.431Z"
   },
   {
    "duration": 1521,
    "start_time": "2023-05-19T11:28:59.007Z"
   },
   {
    "duration": 233,
    "start_time": "2023-05-19T11:29:00.530Z"
   },
   {
    "duration": 266,
    "start_time": "2023-05-19T11:29:00.766Z"
   },
   {
    "duration": 224,
    "start_time": "2023-05-19T11:29:01.034Z"
   },
   {
    "duration": 213,
    "start_time": "2023-05-19T11:29:01.260Z"
   },
   {
    "duration": 63,
    "start_time": "2023-05-19T11:29:01.475Z"
   },
   {
    "duration": 106,
    "start_time": "2023-05-19T11:29:01.540Z"
   },
   {
    "duration": 15,
    "start_time": "2023-05-19T11:29:01.648Z"
   },
   {
    "duration": 59,
    "start_time": "2023-05-19T11:29:01.666Z"
   },
   {
    "duration": 270,
    "start_time": "2023-05-19T11:29:01.727Z"
   },
   {
    "duration": 5,
    "start_time": "2023-05-19T11:29:02.090Z"
   },
   {
    "duration": 21,
    "start_time": "2023-05-19T11:29:02.187Z"
   },
   {
    "duration": 32,
    "start_time": "2023-05-19T11:29:02.210Z"
   },
   {
    "duration": 1479,
    "start_time": "2023-05-19T11:29:02.244Z"
   },
   {
    "duration": 1396,
    "start_time": "2023-05-19T11:29:03.725Z"
   },
   {
    "duration": 1422,
    "start_time": "2023-05-19T11:29:05.123Z"
   },
   {
    "duration": 818,
    "start_time": "2023-05-19T11:32:05.393Z"
   },
   {
    "duration": 1406,
    "start_time": "2023-05-19T11:32:30.036Z"
   },
   {
    "duration": 395,
    "start_time": "2023-05-19T11:32:31.444Z"
   },
   {
    "duration": 216,
    "start_time": "2023-05-19T11:32:31.841Z"
   },
   {
    "duration": 258,
    "start_time": "2023-05-19T11:32:32.060Z"
   },
   {
    "duration": 225,
    "start_time": "2023-05-19T11:32:32.320Z"
   },
   {
    "duration": 209,
    "start_time": "2023-05-19T11:32:32.547Z"
   },
   {
    "duration": 67,
    "start_time": "2023-05-19T11:32:32.758Z"
   },
   {
    "duration": 114,
    "start_time": "2023-05-19T11:32:32.827Z"
   },
   {
    "duration": 15,
    "start_time": "2023-05-19T11:32:32.943Z"
   },
   {
    "duration": 39,
    "start_time": "2023-05-19T11:32:32.961Z"
   },
   {
    "duration": 287,
    "start_time": "2023-05-19T11:32:33.002Z"
   },
   {
    "duration": 97,
    "start_time": "2023-05-19T11:32:33.291Z"
   },
   {
    "duration": 4,
    "start_time": "2023-05-19T11:32:33.390Z"
   },
   {
    "duration": 9,
    "start_time": "2023-05-19T11:32:33.396Z"
   },
   {
    "duration": 1409,
    "start_time": "2023-05-19T11:32:33.406Z"
   },
   {
    "duration": 1373,
    "start_time": "2023-05-19T11:32:34.817Z"
   },
   {
    "duration": 1426,
    "start_time": "2023-05-19T11:32:36.192Z"
   },
   {
    "duration": 900,
    "start_time": "2023-05-19T11:33:05.109Z"
   },
   {
    "duration": 1439,
    "start_time": "2023-05-19T11:33:13.635Z"
   },
   {
    "duration": 418,
    "start_time": "2023-05-19T11:33:15.076Z"
   },
   {
    "duration": 239,
    "start_time": "2023-05-19T11:33:15.497Z"
   },
   {
    "duration": 267,
    "start_time": "2023-05-19T11:33:15.738Z"
   },
   {
    "duration": 226,
    "start_time": "2023-05-19T11:33:16.007Z"
   },
   {
    "duration": 227,
    "start_time": "2023-05-19T11:33:16.235Z"
   },
   {
    "duration": 62,
    "start_time": "2023-05-19T11:33:16.464Z"
   },
   {
    "duration": 97,
    "start_time": "2023-05-19T11:33:16.528Z"
   },
   {
    "duration": 20,
    "start_time": "2023-05-19T11:33:16.627Z"
   },
   {
    "duration": 53,
    "start_time": "2023-05-19T11:33:16.651Z"
   },
   {
    "duration": 186,
    "start_time": "2023-05-19T11:33:16.706Z"
   },
   {
    "duration": 94,
    "start_time": "2023-05-19T11:33:16.894Z"
   },
   {
    "duration": 7,
    "start_time": "2023-05-19T11:33:16.991Z"
   },
   {
    "duration": 91,
    "start_time": "2023-05-19T11:33:17.001Z"
   },
   {
    "duration": 1449,
    "start_time": "2023-05-19T11:33:17.094Z"
   },
   {
    "duration": 1411,
    "start_time": "2023-05-19T11:33:18.545Z"
   },
   {
    "duration": 1443,
    "start_time": "2023-05-19T11:33:19.957Z"
   },
   {
    "duration": 1566,
    "start_time": "2023-05-19T11:34:52.259Z"
   },
   {
    "duration": 400,
    "start_time": "2023-05-19T11:34:53.827Z"
   },
   {
    "duration": 218,
    "start_time": "2023-05-19T11:34:54.229Z"
   },
   {
    "duration": 264,
    "start_time": "2023-05-19T11:34:54.449Z"
   },
   {
    "duration": 224,
    "start_time": "2023-05-19T11:34:54.715Z"
   },
   {
    "duration": 221,
    "start_time": "2023-05-19T11:34:54.940Z"
   },
   {
    "duration": 66,
    "start_time": "2023-05-19T11:34:55.162Z"
   },
   {
    "duration": 93,
    "start_time": "2023-05-19T11:34:55.230Z"
   },
   {
    "duration": 16,
    "start_time": "2023-05-19T11:34:55.324Z"
   },
   {
    "duration": 47,
    "start_time": "2023-05-19T11:34:55.344Z"
   },
   {
    "duration": 496,
    "start_time": "2023-05-19T11:34:55.393Z"
   },
   {
    "duration": 5,
    "start_time": "2023-05-19T11:34:55.892Z"
   },
   {
    "duration": 5,
    "start_time": "2023-05-19T11:34:55.987Z"
   },
   {
    "duration": 32,
    "start_time": "2023-05-19T11:34:55.993Z"
   },
   {
    "duration": 1452,
    "start_time": "2023-05-19T11:34:56.027Z"
   },
   {
    "duration": 1448,
    "start_time": "2023-05-19T11:34:57.481Z"
   },
   {
    "duration": 1466,
    "start_time": "2023-05-19T11:34:58.930Z"
   },
   {
    "duration": 153,
    "start_time": "2023-05-19T11:35:53.939Z"
   },
   {
    "duration": 843,
    "start_time": "2023-05-19T11:39:16.519Z"
   },
   {
    "duration": 1389,
    "start_time": "2023-05-19T11:39:25.418Z"
   },
   {
    "duration": 391,
    "start_time": "2023-05-19T11:39:26.809Z"
   },
   {
    "duration": 222,
    "start_time": "2023-05-19T11:39:27.201Z"
   },
   {
    "duration": 245,
    "start_time": "2023-05-19T11:39:27.425Z"
   },
   {
    "duration": 206,
    "start_time": "2023-05-19T11:39:27.671Z"
   },
   {
    "duration": 213,
    "start_time": "2023-05-19T11:39:27.888Z"
   },
   {
    "duration": 127,
    "start_time": "2023-05-19T11:39:28.103Z"
   },
   {
    "duration": 0,
    "start_time": "2023-05-19T11:39:28.232Z"
   },
   {
    "duration": 0,
    "start_time": "2023-05-19T11:39:28.233Z"
   },
   {
    "duration": 0,
    "start_time": "2023-05-19T11:39:28.234Z"
   },
   {
    "duration": 0,
    "start_time": "2023-05-19T11:39:28.236Z"
   },
   {
    "duration": 0,
    "start_time": "2023-05-19T11:39:28.237Z"
   },
   {
    "duration": 0,
    "start_time": "2023-05-19T11:39:28.237Z"
   },
   {
    "duration": 0,
    "start_time": "2023-05-19T11:39:28.238Z"
   },
   {
    "duration": 0,
    "start_time": "2023-05-19T11:39:28.239Z"
   },
   {
    "duration": 0,
    "start_time": "2023-05-19T11:39:28.241Z"
   },
   {
    "duration": 0,
    "start_time": "2023-05-19T11:39:28.242Z"
   },
   {
    "duration": 1398,
    "start_time": "2023-05-19T11:39:53.617Z"
   },
   {
    "duration": 390,
    "start_time": "2023-05-19T11:39:55.017Z"
   },
   {
    "duration": 219,
    "start_time": "2023-05-19T11:39:55.409Z"
   },
   {
    "duration": 248,
    "start_time": "2023-05-19T11:39:55.631Z"
   },
   {
    "duration": 221,
    "start_time": "2023-05-19T11:39:55.888Z"
   },
   {
    "duration": 219,
    "start_time": "2023-05-19T11:39:56.111Z"
   },
   {
    "duration": 64,
    "start_time": "2023-05-19T11:39:56.332Z"
   },
   {
    "duration": 77,
    "start_time": "2023-05-19T11:39:56.398Z"
   },
   {
    "duration": 16,
    "start_time": "2023-05-19T11:39:56.487Z"
   },
   {
    "duration": 48,
    "start_time": "2023-05-19T11:39:56.505Z"
   },
   {
    "duration": 241,
    "start_time": "2023-05-19T11:39:56.555Z"
   },
   {
    "duration": 92,
    "start_time": "2023-05-19T11:39:56.798Z"
   },
   {
    "duration": 5,
    "start_time": "2023-05-19T11:39:56.892Z"
   },
   {
    "duration": 96,
    "start_time": "2023-05-19T11:39:56.900Z"
   },
   {
    "duration": 1438,
    "start_time": "2023-05-19T11:39:56.998Z"
   },
   {
    "duration": 1430,
    "start_time": "2023-05-19T11:39:58.437Z"
   },
   {
    "duration": 1489,
    "start_time": "2023-05-19T11:39:59.869Z"
   },
   {
    "duration": 875,
    "start_time": "2023-05-19T11:40:40.199Z"
   },
   {
    "duration": 1459,
    "start_time": "2023-05-19T11:41:01.202Z"
   },
   {
    "duration": 415,
    "start_time": "2023-05-19T11:41:02.663Z"
   },
   {
    "duration": 237,
    "start_time": "2023-05-19T11:41:03.080Z"
   },
   {
    "duration": 253,
    "start_time": "2023-05-19T11:41:03.320Z"
   },
   {
    "duration": 227,
    "start_time": "2023-05-19T11:41:03.575Z"
   },
   {
    "duration": 218,
    "start_time": "2023-05-19T11:41:03.804Z"
   },
   {
    "duration": 71,
    "start_time": "2023-05-19T11:41:04.024Z"
   },
   {
    "duration": 93,
    "start_time": "2023-05-19T11:41:04.097Z"
   },
   {
    "duration": 17,
    "start_time": "2023-05-19T11:41:04.192Z"
   },
   {
    "duration": 42,
    "start_time": "2023-05-19T11:41:04.213Z"
   },
   {
    "duration": 333,
    "start_time": "2023-05-19T11:41:04.257Z"
   },
   {
    "duration": 6,
    "start_time": "2023-05-19T11:41:04.592Z"
   },
   {
    "duration": 87,
    "start_time": "2023-05-19T11:41:04.601Z"
   },
   {
    "duration": 11,
    "start_time": "2023-05-19T11:41:04.690Z"
   },
   {
    "duration": 1432,
    "start_time": "2023-05-19T11:41:04.703Z"
   },
   {
    "duration": 1395,
    "start_time": "2023-05-19T11:41:06.136Z"
   },
   {
    "duration": 1415,
    "start_time": "2023-05-19T11:41:07.533Z"
   },
   {
    "duration": 4,
    "start_time": "2023-05-19T11:43:43.293Z"
   },
   {
    "duration": 7,
    "start_time": "2023-05-19T11:46:52.918Z"
   },
   {
    "duration": 1532,
    "start_time": "2023-05-19T11:46:59.250Z"
   },
   {
    "duration": 1471,
    "start_time": "2023-05-19T11:47:39.471Z"
   },
   {
    "duration": 1391,
    "start_time": "2023-05-19T11:47:55.432Z"
   },
   {
    "duration": 394,
    "start_time": "2023-05-19T11:47:56.825Z"
   },
   {
    "duration": 222,
    "start_time": "2023-05-19T11:47:57.221Z"
   },
   {
    "duration": 255,
    "start_time": "2023-05-19T11:47:57.446Z"
   },
   {
    "duration": 223,
    "start_time": "2023-05-19T11:47:57.702Z"
   },
   {
    "duration": 214,
    "start_time": "2023-05-19T11:47:57.927Z"
   },
   {
    "duration": 78,
    "start_time": "2023-05-19T11:47:58.143Z"
   },
   {
    "duration": 87,
    "start_time": "2023-05-19T11:47:58.223Z"
   },
   {
    "duration": 15,
    "start_time": "2023-05-19T11:47:58.313Z"
   },
   {
    "duration": 39,
    "start_time": "2023-05-19T11:47:58.330Z"
   },
   {
    "duration": 223,
    "start_time": "2023-05-19T11:47:58.370Z"
   },
   {
    "duration": 4,
    "start_time": "2023-05-19T11:47:58.595Z"
   },
   {
    "duration": 12,
    "start_time": "2023-05-19T11:47:58.689Z"
   },
   {
    "duration": 91,
    "start_time": "2023-05-19T11:47:58.703Z"
   },
   {
    "duration": 1453,
    "start_time": "2023-05-19T11:47:58.797Z"
   },
   {
    "duration": 1470,
    "start_time": "2023-05-19T11:48:00.252Z"
   },
   {
    "duration": 1444,
    "start_time": "2023-05-19T11:48:01.724Z"
   },
   {
    "duration": 9,
    "start_time": "2023-05-19T11:58:05.392Z"
   },
   {
    "duration": 1503,
    "start_time": "2023-05-19T11:58:48.119Z"
   },
   {
    "duration": 423,
    "start_time": "2023-05-19T11:58:49.625Z"
   },
   {
    "duration": 283,
    "start_time": "2023-05-19T11:58:50.050Z"
   },
   {
    "duration": 274,
    "start_time": "2023-05-19T11:58:50.337Z"
   },
   {
    "duration": 236,
    "start_time": "2023-05-19T11:58:50.613Z"
   },
   {
    "duration": 238,
    "start_time": "2023-05-19T11:58:50.852Z"
   },
   {
    "duration": 106,
    "start_time": "2023-05-19T11:58:51.092Z"
   },
   {
    "duration": 105,
    "start_time": "2023-05-19T11:58:51.201Z"
   },
   {
    "duration": 16,
    "start_time": "2023-05-19T11:58:51.308Z"
   },
   {
    "duration": 46,
    "start_time": "2023-05-19T11:58:51.327Z"
   },
   {
    "duration": 318,
    "start_time": "2023-05-19T11:58:51.376Z"
   },
   {
    "duration": 6,
    "start_time": "2023-05-19T11:58:51.696Z"
   },
   {
    "duration": 5,
    "start_time": "2023-05-19T11:58:51.787Z"
   },
   {
    "duration": 93,
    "start_time": "2023-05-19T11:58:51.795Z"
   },
   {
    "duration": 1551,
    "start_time": "2023-05-19T11:58:51.891Z"
   },
   {
    "duration": 1477,
    "start_time": "2023-05-19T11:58:53.444Z"
   },
   {
    "duration": 1431,
    "start_time": "2023-05-19T11:58:54.923Z"
   },
   {
    "duration": 1523,
    "start_time": "2023-05-19T13:00:52.894Z"
   },
   {
    "duration": 394,
    "start_time": "2023-05-19T13:00:54.419Z"
   },
   {
    "duration": 232,
    "start_time": "2023-05-19T13:00:54.815Z"
   },
   {
    "duration": 268,
    "start_time": "2023-05-19T13:00:55.048Z"
   },
   {
    "duration": 220,
    "start_time": "2023-05-19T13:00:55.319Z"
   },
   {
    "duration": 230,
    "start_time": "2023-05-19T13:00:55.541Z"
   },
   {
    "duration": 50,
    "start_time": "2023-05-19T13:00:55.789Z"
   },
   {
    "duration": 98,
    "start_time": "2023-05-19T13:00:55.841Z"
   },
   {
    "duration": 17,
    "start_time": "2023-05-19T13:00:55.940Z"
   },
   {
    "duration": 48,
    "start_time": "2023-05-19T13:00:55.959Z"
   },
   {
    "duration": 283,
    "start_time": "2023-05-19T13:00:56.009Z"
   },
   {
    "duration": 97,
    "start_time": "2023-05-19T13:00:56.293Z"
   },
   {
    "duration": 13,
    "start_time": "2023-05-19T13:00:56.392Z"
   },
   {
    "duration": 6,
    "start_time": "2023-05-19T13:00:56.408Z"
   },
   {
    "duration": 1520,
    "start_time": "2023-05-19T13:00:56.416Z"
   },
   {
    "duration": 1477,
    "start_time": "2023-05-19T13:00:57.938Z"
   },
   {
    "duration": 1537,
    "start_time": "2023-05-19T13:00:59.416Z"
   },
   {
    "duration": 2340,
    "start_time": "2023-05-19T13:46:48.902Z"
   },
   {
    "duration": 389,
    "start_time": "2023-05-19T13:46:51.244Z"
   },
   {
    "duration": 206,
    "start_time": "2023-05-19T13:46:51.635Z"
   },
   {
    "duration": 242,
    "start_time": "2023-05-19T13:46:51.844Z"
   },
   {
    "duration": 208,
    "start_time": "2023-05-19T13:46:52.088Z"
   },
   {
    "duration": 194,
    "start_time": "2023-05-19T13:46:52.298Z"
   },
   {
    "duration": 53,
    "start_time": "2023-05-19T13:46:52.493Z"
   },
   {
    "duration": 88,
    "start_time": "2023-05-19T13:46:52.548Z"
   },
   {
    "duration": 14,
    "start_time": "2023-05-19T13:46:52.637Z"
   },
   {
    "duration": 45,
    "start_time": "2023-05-19T13:46:52.654Z"
   },
   {
    "duration": 177,
    "start_time": "2023-05-19T13:46:52.701Z"
   },
   {
    "duration": 5,
    "start_time": "2023-05-19T13:46:52.880Z"
   },
   {
    "duration": 98,
    "start_time": "2023-05-19T13:46:52.887Z"
   },
   {
    "duration": 5,
    "start_time": "2023-05-19T13:46:52.987Z"
   },
   {
    "duration": 1383,
    "start_time": "2023-05-19T13:46:52.994Z"
   },
   {
    "duration": 1356,
    "start_time": "2023-05-19T13:46:54.379Z"
   },
   {
    "duration": 1457,
    "start_time": "2023-05-19T13:46:55.736Z"
   }
  ],
  "kernelspec": {
   "display_name": "Python 3 (ipykernel)",
   "language": "python",
   "name": "python3"
  },
  "language_info": {
   "codemirror_mode": {
    "name": "ipython",
    "version": 3
   },
   "file_extension": ".py",
   "mimetype": "text/x-python",
   "name": "python",
   "nbconvert_exporter": "python",
   "pygments_lexer": "ipython3",
   "version": "3.9.5"
  },
  "toc": {
   "base_numbering": 1,
   "nav_menu": {},
   "number_sections": true,
   "sideBar": true,
   "skip_h1_title": true,
   "title_cell": "Table of Contents",
   "title_sidebar": "Contents",
   "toc_cell": false,
   "toc_position": {},
   "toc_section_display": true,
   "toc_window_display": true
  }
 },
 "nbformat": 4,
 "nbformat_minor": 2
}
